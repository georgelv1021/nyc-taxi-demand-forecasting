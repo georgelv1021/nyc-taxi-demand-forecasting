{
 "cells": [
  {
   "cell_type": "markdown",
   "metadata": {
    "application/vnd.databricks.v1+cell": {
     "cellMetadata": {},
     "inputWidgets": {},
     "nuid": "117ca8eb-8f5f-41ed-9098-cb9fe83081b1",
     "showTitle": false,
     "title": ""
    }
   },
   "source": [
    "**Project Question: Predict the hourly demand for NYC taxi services in each zone.**\n",
    "\n"
   ]
  },
  {
   "cell_type": "markdown",
   "metadata": {
    "application/vnd.databricks.v1+cell": {
     "cellMetadata": {},
     "inputWidgets": {},
     "nuid": "f03717f3-eaa8-445b-a5b1-fa36d8e4dcff",
     "showTitle": false,
     "title": ""
    }
   },
   "source": [
    "# Read in the data"
   ]
  },
  {
   "cell_type": "code",
   "execution_count": 0,
   "metadata": {
    "application/vnd.databricks.v1+cell": {
     "cellMetadata": {
      "byteLimit": 2048000,
      "rowLimit": 10000
     },
     "inputWidgets": {},
     "nuid": "7fda7201-ba2f-4c4f-9292-b27b6bd5a684",
     "showTitle": false,
     "title": ""
    }
   },
   "outputs": [],
   "source": [
    "# RUN\n",
    "# import libraries needed\n",
    "from pyspark.sql import SparkSession\n",
    "from pyspark.sql.functions import col, when, expr, dayofweek, date_format, sum\n",
    "import pandas as pd\n",
    "from pyspark.sql import functions as F\n",
    "from pyspark.sql.functions import weekofyear\n",
    "\n",
    "from pyspark.ml.feature import VectorAssembler\n",
    "from pyspark.ml.regression import RandomForestRegressor\n",
    "from pyspark.ml import Pipeline\n",
    "from pyspark.ml.stat import Correlation\n",
    "from pyspark.ml.linalg import Vectors"
   ]
  },
  {
   "cell_type": "code",
   "execution_count": 0,
   "metadata": {
    "application/vnd.databricks.v1+cell": {
     "cellMetadata": {
      "byteLimit": 2048000,
      "rowLimit": 10000
     },
     "inputWidgets": {},
     "nuid": "cc68099d-34b4-4b6f-ab9a-1aa8b6fd5945",
     "showTitle": false,
     "title": ""
    }
   },
   "outputs": [],
   "source": [
    "# RUN\n",
    "# create spark session\n",
    "spark = SparkSession.builder.appName(\"FinalProject\").getOrCreate()"
   ]
  },
  {
   "cell_type": "code",
   "execution_count": 0,
   "metadata": {
    "application/vnd.databricks.v1+cell": {
     "cellMetadata": {
      "byteLimit": 2048000,
      "rowLimit": 10000
     },
     "inputWidgets": {},
     "nuid": "bb23fc76-bcb9-4a7c-a208-62f8fd6f6f7e",
     "showTitle": false,
     "title": ""
    }
   },
   "outputs": [
    {
     "output_type": "stream",
     "name": "stdout",
     "output_type": "stream",
     "text": [
      "Remote blob path: wasbs://nyctlc@azureopendatastorage.blob.core.windows.net/yellow\nRegister the DataFrame as a SQL temporary view: source\nDisplaying top 10 rows: \n"
     ]
    },
    {
     "output_type": "display_data",
     "data": {
      "text/html": [
       "<style scoped>\n",
       "  .table-result-container {\n",
       "    max-height: 300px;\n",
       "    overflow: auto;\n",
       "  }\n",
       "  table, th, td {\n",
       "    border: 1px solid black;\n",
       "    border-collapse: collapse;\n",
       "  }\n",
       "  th, td {\n",
       "    padding: 5px;\n",
       "  }\n",
       "  th {\n",
       "    text-align: left;\n",
       "  }\n",
       "</style><div class='table-result-container'><table class='table-result'><thead style='background-color: white'><tr><th>vendorID</th><th>tpepPickupDateTime</th><th>tpepDropoffDateTime</th><th>passengerCount</th><th>tripDistance</th><th>puLocationId</th><th>doLocationId</th><th>startLon</th><th>startLat</th><th>endLon</th><th>endLat</th><th>rateCodeId</th><th>storeAndFwdFlag</th><th>paymentType</th><th>fareAmount</th><th>extra</th><th>mtaTax</th><th>improvementSurcharge</th><th>tipAmount</th><th>tollsAmount</th><th>totalAmount</th><th>puYear</th><th>puMonth</th></tr></thead><tbody><tr><td>CMT</td><td>2012-02-29T23:53:14Z</td><td>2012-03-01T00:00:43Z</td><td>1</td><td>2.1</td><td>null</td><td>null</td><td>-73.980494</td><td>40.730601</td><td>-73.983532</td><td>40.752311</td><td>1</td><td>N</td><td>CSH</td><td>7.3</td><td>0.5</td><td>0.5</td><td>null</td><td>0.0</td><td>0.0</td><td>8.3</td><td>2012</td><td>3</td></tr><tr><td>VTS</td><td>2012-03-17T08:01:00Z</td><td>2012-03-17T08:15:00Z</td><td>1</td><td>11.06</td><td>null</td><td>null</td><td>-73.986067</td><td>40.699862</td><td>-73.814838</td><td>40.737052</td><td>1</td><td>null</td><td>CRD</td><td>24.5</td><td>0.0</td><td>0.5</td><td>null</td><td>4.9</td><td>0.0</td><td>29.9</td><td>2012</td><td>3</td></tr><tr><td>CMT</td><td>2012-02-29T23:58:51Z</td><td>2012-03-01T00:15:48Z</td><td>1</td><td>3.4</td><td>null</td><td>null</td><td>-73.968967</td><td>40.754359</td><td>-73.957048</td><td>40.743289</td><td>1</td><td>N</td><td>CRD</td><td>12.5</td><td>0.5</td><td>0.5</td><td>null</td><td>1.5</td><td>0.0</td><td>15.0</td><td>2012</td><td>3</td></tr><tr><td>CMT</td><td>2012-03-01T19:24:16Z</td><td>2012-03-01T19:31:22Z</td><td>1</td><td>1.3</td><td>null</td><td>null</td><td>-73.99374</td><td>40.75307</td><td>-74.005428</td><td>40.741118</td><td>1</td><td>N</td><td>CRD</td><td>6.1</td><td>1.0</td><td>0.5</td><td>null</td><td>0.0</td><td>0.0</td><td>7.6</td><td>2012</td><td>3</td></tr><tr><td>CMT</td><td>2012-02-29T23:46:32Z</td><td>2012-03-01T00:05:18Z</td><td>3</td><td>2.0</td><td>null</td><td>null</td><td>-73.973723</td><td>40.752323</td><td>-73.948275</td><td>40.769413</td><td>1</td><td>N</td><td>CSH</td><td>11.7</td><td>0.5</td><td>0.5</td><td>null</td><td>0.0</td><td>0.0</td><td>12.7</td><td>2012</td><td>3</td></tr><tr><td>VTS</td><td>2012-03-07T15:17:00Z</td><td>2012-03-07T15:26:00Z</td><td>5</td><td>1.87</td><td>null</td><td>null</td><td>-73.988237</td><td>40.75929</td><td>-73.97114</td><td>40.78275</td><td>1</td><td>null</td><td>CSH</td><td>7.7</td><td>0.0</td><td>0.5</td><td>null</td><td>0.0</td><td>0.0</td><td>8.2</td><td>2012</td><td>3</td></tr><tr><td>CMT</td><td>2012-02-29T23:41:58Z</td><td>2012-03-01T00:02:29Z</td><td>1</td><td>12.4</td><td>null</td><td>null</td><td>-73.954536</td><td>40.727742</td><td>-73.768994</td><td>40.760246</td><td>1</td><td>N</td><td>CSH</td><td>28.5</td><td>0.5</td><td>0.5</td><td>null</td><td>0.0</td><td>0.0</td><td>29.5</td><td>2012</td><td>3</td></tr><tr><td>VTS</td><td>2012-03-18T15:21:00Z</td><td>2012-03-18T15:32:00Z</td><td>6</td><td>2.51</td><td>null</td><td>null</td><td>-74.001705</td><td>40.732345</td><td>-73.974888</td><td>40.750835</td><td>1</td><td>null</td><td>CSH</td><td>8.9</td><td>0.0</td><td>0.5</td><td>null</td><td>0.0</td><td>0.0</td><td>9.4</td><td>2012</td><td>3</td></tr><tr><td>CMT</td><td>2012-02-29T23:47:08Z</td><td>2012-03-01T00:06:42Z</td><td>4</td><td>6.3</td><td>null</td><td>null</td><td>-73.992319</td><td>40.724503</td><td>-73.923589</td><td>40.76113</td><td>1</td><td>N</td><td>CRD</td><td>16.5</td><td>0.5</td><td>0.5</td><td>null</td><td>4.37</td><td>0.0</td><td>21.87</td><td>2012</td><td>3</td></tr><tr><td>VTS</td><td>2012-03-13T22:26:00Z</td><td>2012-03-13T22:37:00Z</td><td>1</td><td>1.34</td><td>null</td><td>null</td><td>-74.009907</td><td>40.706292</td><td>-74.000512</td><td>40.71733</td><td>1</td><td>null</td><td>CSH</td><td>7.3</td><td>0.5</td><td>0.5</td><td>null</td><td>0.0</td><td>0.0</td><td>8.3</td><td>2012</td><td>3</td></tr></tbody></table></div>"
      ]
     },
     "metadata": {
      "application/vnd.databricks.v1+output": {
       "addedWidgets": {},
       "aggData": [],
       "aggError": "",
       "aggOverflow": false,
       "aggSchema": [],
       "aggSeriesLimitReached": false,
       "aggType": "",
       "arguments": {},
       "columnCustomDisplayInfos": {},
       "data": [
        [
         "CMT",
         "2012-02-29T23:53:14Z",
         "2012-03-01T00:00:43Z",
         1,
         2.1,
         null,
         null,
         -73.980494,
         40.730601,
         -73.983532,
         40.752311,
         1,
         "N",
         "CSH",
         7.3,
         0.5,
         0.5,
         null,
         0.0,
         0.0,
         8.3,
         2012,
         3
        ],
        [
         "VTS",
         "2012-03-17T08:01:00Z",
         "2012-03-17T08:15:00Z",
         1,
         11.06,
         null,
         null,
         -73.986067,
         40.699862,
         -73.814838,
         40.737052,
         1,
         null,
         "CRD",
         24.5,
         0.0,
         0.5,
         null,
         4.9,
         0.0,
         29.9,
         2012,
         3
        ],
        [
         "CMT",
         "2012-02-29T23:58:51Z",
         "2012-03-01T00:15:48Z",
         1,
         3.4,
         null,
         null,
         -73.968967,
         40.754359,
         -73.957048,
         40.743289,
         1,
         "N",
         "CRD",
         12.5,
         0.5,
         0.5,
         null,
         1.5,
         0.0,
         15.0,
         2012,
         3
        ],
        [
         "CMT",
         "2012-03-01T19:24:16Z",
         "2012-03-01T19:31:22Z",
         1,
         1.3,
         null,
         null,
         -73.99374,
         40.75307,
         -74.005428,
         40.741118,
         1,
         "N",
         "CRD",
         6.1,
         1.0,
         0.5,
         null,
         0.0,
         0.0,
         7.6,
         2012,
         3
        ],
        [
         "CMT",
         "2012-02-29T23:46:32Z",
         "2012-03-01T00:05:18Z",
         3,
         2.0,
         null,
         null,
         -73.973723,
         40.752323,
         -73.948275,
         40.769413,
         1,
         "N",
         "CSH",
         11.7,
         0.5,
         0.5,
         null,
         0.0,
         0.0,
         12.7,
         2012,
         3
        ],
        [
         "VTS",
         "2012-03-07T15:17:00Z",
         "2012-03-07T15:26:00Z",
         5,
         1.87,
         null,
         null,
         -73.988237,
         40.75929,
         -73.97114,
         40.78275,
         1,
         null,
         "CSH",
         7.7,
         0.0,
         0.5,
         null,
         0.0,
         0.0,
         8.2,
         2012,
         3
        ],
        [
         "CMT",
         "2012-02-29T23:41:58Z",
         "2012-03-01T00:02:29Z",
         1,
         12.4,
         null,
         null,
         -73.954536,
         40.727742,
         -73.768994,
         40.760246,
         1,
         "N",
         "CSH",
         28.5,
         0.5,
         0.5,
         null,
         0.0,
         0.0,
         29.5,
         2012,
         3
        ],
        [
         "VTS",
         "2012-03-18T15:21:00Z",
         "2012-03-18T15:32:00Z",
         6,
         2.51,
         null,
         null,
         -74.001705,
         40.732345,
         -73.974888,
         40.750835,
         1,
         null,
         "CSH",
         8.9,
         0.0,
         0.5,
         null,
         0.0,
         0.0,
         9.4,
         2012,
         3
        ],
        [
         "CMT",
         "2012-02-29T23:47:08Z",
         "2012-03-01T00:06:42Z",
         4,
         6.3,
         null,
         null,
         -73.992319,
         40.724503,
         -73.923589,
         40.76113,
         1,
         "N",
         "CRD",
         16.5,
         0.5,
         0.5,
         null,
         4.37,
         0.0,
         21.87,
         2012,
         3
        ],
        [
         "VTS",
         "2012-03-13T22:26:00Z",
         "2012-03-13T22:37:00Z",
         1,
         1.34,
         null,
         null,
         -74.009907,
         40.706292,
         -74.000512,
         40.71733,
         1,
         null,
         "CSH",
         7.3,
         0.5,
         0.5,
         null,
         0.0,
         0.0,
         8.3,
         2012,
         3
        ]
       ],
       "datasetInfos": [],
       "dbfsResultPath": null,
       "isJsonSchema": true,
       "metadata": {},
       "overflow": false,
       "plotOptions": {
        "customPlotOptions": {},
        "displayType": "table",
        "pivotAggregation": null,
        "pivotColumns": null,
        "xColumns": null,
        "yColumns": null
       },
       "removedWidgets": [],
       "schema": [
        {
         "metadata": "{}",
         "name": "vendorID",
         "type": "\"string\""
        },
        {
         "metadata": "{}",
         "name": "tpepPickupDateTime",
         "type": "\"timestamp\""
        },
        {
         "metadata": "{}",
         "name": "tpepDropoffDateTime",
         "type": "\"timestamp\""
        },
        {
         "metadata": "{}",
         "name": "passengerCount",
         "type": "\"integer\""
        },
        {
         "metadata": "{}",
         "name": "tripDistance",
         "type": "\"double\""
        },
        {
         "metadata": "{}",
         "name": "puLocationId",
         "type": "\"string\""
        },
        {
         "metadata": "{}",
         "name": "doLocationId",
         "type": "\"string\""
        },
        {
         "metadata": "{}",
         "name": "startLon",
         "type": "\"double\""
        },
        {
         "metadata": "{}",
         "name": "startLat",
         "type": "\"double\""
        },
        {
         "metadata": "{}",
         "name": "endLon",
         "type": "\"double\""
        },
        {
         "metadata": "{}",
         "name": "endLat",
         "type": "\"double\""
        },
        {
         "metadata": "{}",
         "name": "rateCodeId",
         "type": "\"integer\""
        },
        {
         "metadata": "{}",
         "name": "storeAndFwdFlag",
         "type": "\"string\""
        },
        {
         "metadata": "{}",
         "name": "paymentType",
         "type": "\"string\""
        },
        {
         "metadata": "{}",
         "name": "fareAmount",
         "type": "\"double\""
        },
        {
         "metadata": "{}",
         "name": "extra",
         "type": "\"double\""
        },
        {
         "metadata": "{}",
         "name": "mtaTax",
         "type": "\"double\""
        },
        {
         "metadata": "{}",
         "name": "improvementSurcharge",
         "type": "\"string\""
        },
        {
         "metadata": "{}",
         "name": "tipAmount",
         "type": "\"double\""
        },
        {
         "metadata": "{}",
         "name": "tollsAmount",
         "type": "\"double\""
        },
        {
         "metadata": "{}",
         "name": "totalAmount",
         "type": "\"double\""
        },
        {
         "metadata": "{}",
         "name": "puYear",
         "type": "\"integer\""
        },
        {
         "metadata": "{}",
         "name": "puMonth",
         "type": "\"integer\""
        }
       ],
       "type": "table"
      }
     },
     "output_type": "display_data"
    }
   ],
   "source": [
    "# RUN\n",
    "# data : https://learn.microsoft.com/en-us/azure/open-datasets/dataset-taxi-yellow?tabs=pyspark#azure-databricks\n",
    "\n",
    "# Azure storage access info\n",
    "blob_account_name = \"azureopendatastorage\"\n",
    "blob_container_name = \"nyctlc\"\n",
    "blob_relative_path = \"yellow\"\n",
    "blob_sas_token = \"r\"\n",
    "\n",
    "# Allow SPARK to read from Blob remotely\n",
    "wasbs_path = 'wasbs://%s@%s.blob.core.windows.net/%s' % (blob_container_name, blob_account_name, blob_relative_path)\n",
    "spark.conf.set(\n",
    "  'fs.azure.sas.%s.%s.blob.core.windows.net' % (blob_container_name, blob_account_name),\n",
    "  blob_sas_token)\n",
    "print('Remote blob path: ' + wasbs_path)\n",
    "\n",
    "# SPARK read parquet, note that it won't load any data yet by now\n",
    "df = spark.read.parquet(wasbs_path)\n",
    "print('Register the DataFrame as a SQL temporary view: source')\n",
    "df.createOrReplaceTempView('source')\n",
    "\n",
    "# Display top 10 rows\n",
    "print('Displaying top 10 rows: ')\n",
    "display(spark.sql('SELECT * FROM source LIMIT 10'))"
   ]
  },
  {
   "cell_type": "code",
   "execution_count": 0,
   "metadata": {
    "application/vnd.databricks.v1+cell": {
     "cellMetadata": {
      "byteLimit": 2048000,
      "rowLimit": 10000
     },
     "inputWidgets": {},
     "nuid": "f40f0259-743e-451a-a348-61356f3bc3e7",
     "showTitle": false,
     "title": ""
    }
   },
   "outputs": [
    {
     "output_type": "stream",
     "name": "stdout",
     "output_type": "stream",
     "text": [
      "+--------+-------------------+-------------------+--------------+------------+------------+------------+--------+--------+------+------+----------+---------------+-----------+----------+-----+------+--------------------+---------+-----------+-----------+------+-------+\n|vendorID| tpepPickupDateTime|tpepDropoffDateTime|passengerCount|tripDistance|puLocationId|doLocationId|startLon|startLat|endLon|endLat|rateCodeId|storeAndFwdFlag|paymentType|fareAmount|extra|mtaTax|improvementSurcharge|tipAmount|tollsAmount|totalAmount|puYear|puMonth|\n+--------+-------------------+-------------------+--------------+------------+------------+------------+--------+--------+------+------+----------+---------------+-----------+----------+-----+------+--------------------+---------+-----------+-----------+------+-------+\n|       1|2017-03-02 07:59:01|2017-03-02 08:12:48|             1|         1.4|         238|         236|    NULL|    NULL|  NULL|  NULL|         1|              N|          1|       9.5|  0.0|   0.5|                 0.3|      0.0|        0.0|       10.3|  2017|      3|\n|       2|2017-02-28 12:03:31|2017-03-01 11:58:41|             6|        0.87|         263|         140|    NULL|    NULL|  NULL|  NULL|         1|              N|          1|       5.5|  0.0|   0.5|                 0.3|      0.0|        0.0|        6.3|  2017|      3|\n|       1|2017-03-02 00:46:47|2017-03-02 00:52:13|             1|         0.9|          48|         100|    NULL|    NULL|  NULL|  NULL|         1|              N|          1|       5.5|  0.5|   0.5|                 0.3|     1.35|        0.0|       8.15|  2017|      3|\n|       2|2017-02-28 17:21:44|2017-03-01 16:26:31|             2|        11.4|         138|         170|    NULL|    NULL|  NULL|  NULL|         1|              N|          2|      34.5|  1.0|   0.5|                 0.3|      0.0|       5.54|      41.84|  2017|      3|\n|       2|2017-03-02 00:07:44|2017-03-02 00:26:32|             1|        9.27|         144|         179|    NULL|    NULL|  NULL|  NULL|         1|              N|          1|      27.5|  0.5|   0.5|                 0.3|     3.08|        0.0|      31.88|  2017|      3|\n|       2|2017-02-28 18:07:28|2017-03-01 17:54:58|             1|        0.02|         237|         237|    NULL|    NULL|  NULL|  NULL|         1|              N|          2|       3.0|  1.0|   0.5|                 0.3|      0.0|        0.0|        4.8|  2017|      3|\n|       2|2017-03-02 01:20:36|2017-03-02 01:46:38|             1|        7.38|         249|         129|    NULL|    NULL|  NULL|  NULL|         1|              N|          1|      24.0|  0.5|   0.5|                 0.3|     5.06|        0.0|      30.36|  2017|      3|\n|       2|2017-02-28 11:07:30|2017-03-01 10:58:22|             1|        1.11|         236|         140|    NULL|    NULL|  NULL|  NULL|         1|              N|          1|      10.0|  0.0|   0.5|                 0.3|     2.16|        0.0|      12.96|  2017|      3|\n|       2|2017-03-01 23:16:36|2017-03-01 23:27:08|             1|        2.51|         230|         263|    NULL|    NULL|  NULL|  NULL|         1|              N|          1|      10.0|  0.5|   0.5|                 0.3|     2.26|        0.0|      13.56|  2017|      3|\n|       2|2017-02-28 15:16:50|2017-03-01 15:15:28|             1|        1.46|         246|         161|    NULL|    NULL|  NULL|  NULL|         1|              N|          1|       8.5|  0.0|   0.5|                 0.3|     1.86|        0.0|      11.16|  2017|      3|\n+--------+-------------------+-------------------+--------------+------------+------------+------------+--------+--------+------+------+----------+---------------+-----------+----------+-----+------+--------------------+---------+-----------+-----------+------+-------+\nonly showing top 10 rows\n\n"
     ]
    }
   ],
   "source": [
    "# RUN\n",
    "# smaller dataset bc data is big. Will use the truncated df for the project\n",
    "df_truncated = df.filter((col(\"puYear\") >= 2017) & (col(\"puYear\") <= 2018))\n",
    "\n",
    "# view the truncated df\n",
    "df_truncated.show(10) "
   ]
  },
  {
   "cell_type": "code",
   "execution_count": 0,
   "metadata": {
    "application/vnd.databricks.v1+cell": {
     "cellMetadata": {
      "byteLimit": 2048000,
      "rowLimit": 10000
     },
     "inputWidgets": {},
     "nuid": "bb1ea76a-b04c-4368-a1a6-a0ad97919a51",
     "showTitle": false,
     "title": ""
    }
   },
   "outputs": [
    {
     "output_type": "stream",
     "name": "stdout",
     "output_type": "stream",
     "text": [
      "Number of rows in truncated data: 216300320\n"
     ]
    }
   ],
   "source": [
    "# DON'T RUN\n",
    "# count the number of rows in the truncated df\n",
    "row_count = df_truncated.count()\n",
    "print(\"Number of rows in truncated data:\", row_count)  \n",
    "\n",
    "# about 216M rows"
   ]
  },
  {
   "cell_type": "code",
   "execution_count": 0,
   "metadata": {
    "application/vnd.databricks.v1+cell": {
     "cellMetadata": {
      "byteLimit": 2048000,
      "rowLimit": 10000
     },
     "inputWidgets": {},
     "nuid": "1f20e723-7be9-4ddd-bb0d-9e71533f1a8d",
     "showTitle": false,
     "title": ""
    }
   },
   "outputs": [
    {
     "output_type": "stream",
     "name": "stdout",
     "output_type": "stream",
     "text": [
      "root\n |-- vendorID: string (nullable = true)\n |-- tpepPickupDateTime: timestamp (nullable = true)\n |-- tpepDropoffDateTime: timestamp (nullable = true)\n |-- passengerCount: integer (nullable = true)\n |-- tripDistance: double (nullable = true)\n |-- puLocationId: string (nullable = true)\n |-- doLocationId: string (nullable = true)\n |-- startLon: double (nullable = true)\n |-- startLat: double (nullable = true)\n |-- endLon: double (nullable = true)\n |-- endLat: double (nullable = true)\n |-- rateCodeId: integer (nullable = true)\n |-- storeAndFwdFlag: string (nullable = true)\n |-- paymentType: string (nullable = true)\n |-- fareAmount: double (nullable = true)\n |-- extra: double (nullable = true)\n |-- mtaTax: double (nullable = true)\n |-- improvementSurcharge: string (nullable = true)\n |-- tipAmount: double (nullable = true)\n |-- tollsAmount: double (nullable = true)\n |-- totalAmount: double (nullable = true)\n |-- puYear: integer (nullable = true)\n |-- puMonth: integer (nullable = true)\n\n"
     ]
    }
   ],
   "source": [
    "# DON'T RUN\n",
    "# print schema to inspect data types\n",
    "df_truncated.printSchema()"
   ]
  },
  {
   "cell_type": "markdown",
   "metadata": {
    "application/vnd.databricks.v1+cell": {
     "cellMetadata": {},
     "inputWidgets": {},
     "nuid": "34196b65-66a7-43ad-9892-98077d0c072c",
     "showTitle": false,
     "title": ""
    }
   },
   "source": [
    "# Milestone 2\n"
   ]
  },
  {
   "cell_type": "markdown",
   "metadata": {
    "application/vnd.databricks.v1+cell": {
     "cellMetadata": {},
     "inputWidgets": {},
     "nuid": "3b279c54-78a9-4293-8088-3408fde7077d",
     "showTitle": false,
     "title": ""
    }
   },
   "source": [
    "### 1. EDA on your dataset that will be used for training and evaluation.\n",
    "#### a. Address missing data\n",
    "#### b. Address non-numerical features\n",
    "#### c. List out raw features, derived features that you plan to implement/use\n",
    "#### d. Do you need any dimensionality reduction? (e.g., LASSO regularization, forward/backward selection, PCA, etc..)"
   ]
  },
  {
   "cell_type": "markdown",
   "metadata": {
    "application/vnd.databricks.v1+cell": {
     "cellMetadata": {},
     "inputWidgets": {},
     "nuid": "08213624-b44a-43f3-bf1a-495123554b17",
     "showTitle": false,
     "title": ""
    }
   },
   "source": [
    "##### a. Address missing data"
   ]
  },
  {
   "cell_type": "code",
   "execution_count": 0,
   "metadata": {
    "application/vnd.databricks.v1+cell": {
     "cellMetadata": {
      "byteLimit": 2048000,
      "rowLimit": 10000
     },
     "inputWidgets": {},
     "nuid": "1507f589-2728-44f9-9ccd-e799cee9f89f",
     "showTitle": false,
     "title": ""
    }
   },
   "outputs": [
    {
     "output_type": "stream",
     "name": "stdout",
     "output_type": "stream",
     "text": [
      "+--------+------------------+-------------------+--------------+------------+------------+------------+---------+---------+---------+---------+----------+---------------+-----------+----------+-----+------+--------------------+---------+-----------+-----------+------+-------+\n|vendorID|tpepPickupDateTime|tpepDropoffDateTime|passengerCount|tripDistance|puLocationId|doLocationId| startLon| startLat|   endLon|   endLat|rateCodeId|storeAndFwdFlag|paymentType|fareAmount|extra|mtaTax|improvementSurcharge|tipAmount|tollsAmount|totalAmount|puYear|puMonth|\n+--------+------------------+-------------------+--------------+------------+------------+------------+---------+---------+---------+---------+----------+---------------+-----------+----------+-----+------+--------------------+---------+-----------+-----------+------+-------+\n|       0|                 0|                  0|             0|           0|           0|           0|216300320|216300320|216300320|216300320|         0|              0|          0|         0|    0|     0|                   0|        0|          0|          0|     0|      0|\n+--------+------------------+-------------------+--------------+------------+------------+------------+---------+---------+---------+---------+----------+---------------+-----------+----------+-----+------+--------------------+---------+-----------+-----------+------+-------+\n\n"
     ]
    }
   ],
   "source": [
    "# DON'T RUN\n",
    "# inspect if any data is missing\n",
    "\n",
    "# count missing values for each column\n",
    "missing_values_counts = df_truncated.select([sum(col(c).isNull().cast(\"int\")).alias(c) for c in df_truncated.columns])\n",
    "\n",
    "missing_values_counts.show()\n",
    "\n",
    "# We can see that there is only missing values in startLon, startLat, endLon, and endLat. Since this is not needed for our time series analysis we can drop these columns and therefore do not need to handle missing data. "
   ]
  },
  {
   "cell_type": "code",
   "execution_count": 0,
   "metadata": {
    "application/vnd.databricks.v1+cell": {
     "cellMetadata": {
      "byteLimit": 2048000,
      "rowLimit": 10000
     },
     "inputWidgets": {},
     "nuid": "59a5f0be-0c88-4c92-b51b-5ec524d9bb44",
     "showTitle": false,
     "title": ""
    }
   },
   "outputs": [
    {
     "output_type": "stream",
     "name": "stdout",
     "output_type": "stream",
     "text": [
      "root\n |-- vendorID: string (nullable = true)\n |-- tpepPickupDateTime: timestamp (nullable = true)\n |-- tpepDropoffDateTime: timestamp (nullable = true)\n |-- passengerCount: integer (nullable = true)\n |-- tripDistance: double (nullable = true)\n |-- puLocationId: string (nullable = true)\n |-- doLocationId: string (nullable = true)\n |-- rateCodeId: integer (nullable = true)\n |-- storeAndFwdFlag: string (nullable = true)\n |-- paymentType: string (nullable = true)\n |-- fareAmount: double (nullable = true)\n |-- extra: double (nullable = true)\n |-- mtaTax: double (nullable = true)\n |-- improvementSurcharge: string (nullable = true)\n |-- tipAmount: double (nullable = true)\n |-- tollsAmount: double (nullable = true)\n |-- totalAmount: double (nullable = true)\n |-- puYear: integer (nullable = true)\n |-- puMonth: integer (nullable = true)\n\n"
     ]
    }
   ],
   "source": [
    "# RUN\n",
    "# drop startLon, startLat, endLon, and endLat columns\n",
    "columns_to_drop = ['startLon','startLat', 'endLon', 'endLat']\n",
    "df_truncated = df_truncated.drop(*columns_to_drop)\n",
    "\n",
    "df_truncated.printSchema() # sanity check, check schema if columns gone"
   ]
  },
  {
   "cell_type": "code",
   "execution_count": 0,
   "metadata": {
    "application/vnd.databricks.v1+cell": {
     "cellMetadata": {
      "byteLimit": 2048000,
      "rowLimit": 10000
     },
     "inputWidgets": {},
     "nuid": "e1be4622-0e43-4e41-b9c3-b33657092f8c",
     "showTitle": false,
     "title": ""
    }
   },
   "outputs": [
    {
     "output_type": "stream",
     "name": "stdout",
     "output_type": "stream",
     "text": [
      "+--------+------------------+-------------------+--------------+------------+------------+------------+----------+---------------+-----------+----------+-----+------+--------------------+---------+-----------+-----------+------+-------+\n|vendorID|tpepPickupDateTime|tpepDropoffDateTime|passengerCount|tripDistance|puLocationId|doLocationId|rateCodeId|storeAndFwdFlag|paymentType|fareAmount|extra|mtaTax|improvementSurcharge|tipAmount|tollsAmount|totalAmount|puYear|puMonth|\n+--------+------------------+-------------------+--------------+------------+------------+------------+----------+---------------+-----------+----------+-----+------+--------------------+---------+-----------+-----------+------+-------+\n|       0|                 0|                  0|             0|           0|           0|           0|         0|              0|          0|         0|    0|     0|                   0|        0|          0|          0|     0|      0|\n+--------+------------------+-------------------+--------------+------------+------------+------------+----------+---------------+-----------+----------+-----+------+--------------------+---------+-----------+-----------+------+-------+\n\n"
     ]
    }
   ],
   "source": [
    "# DON'T RUN\n",
    "# double check no missing values in df_truncated after drop lat/long columns\n",
    "missing_values_counts = df_truncated.select([sum(col(c).isNull().cast(\"int\")).alias(c) for c in df_truncated.columns])\n",
    "\n",
    "missing_values_counts.show()"
   ]
  },
  {
   "cell_type": "markdown",
   "metadata": {
    "application/vnd.databricks.v1+cell": {
     "cellMetadata": {},
     "inputWidgets": {},
     "nuid": "57026027-0db8-47ba-b200-01898c40c8bf",
     "showTitle": false,
     "title": ""
    }
   },
   "source": [
    "##### b. Address non-numerical features"
   ]
  },
  {
   "cell_type": "code",
   "execution_count": 0,
   "metadata": {
    "application/vnd.databricks.v1+cell": {
     "cellMetadata": {
      "byteLimit": 2048000,
      "rowLimit": 10000
     },
     "inputWidgets": {},
     "nuid": "de0de47b-6515-463b-a4a4-a141ae7f5f74",
     "showTitle": false,
     "title": ""
    }
   },
   "outputs": [
    {
     "output_type": "stream",
     "name": "stdout",
     "output_type": "stream",
     "text": [
      "+--------+-------------------+-------------------+------------+------------+---------------+-----------+--------------------+\n|vendorID| tpepPickupDateTime|tpepDropoffDateTime|puLocationId|doLocationId|storeAndFwdFlag|paymentType|improvementSurcharge|\n+--------+-------------------+-------------------+------------+------------+---------------+-----------+--------------------+\n|       1|2017-03-02 07:59:01|2017-03-02 08:12:48|         238|         236|              N|          1|                 0.3|\n|       2|2017-02-28 12:03:31|2017-03-01 11:58:41|         263|         140|              N|          1|                 0.3|\n|       1|2017-03-02 00:46:47|2017-03-02 00:52:13|          48|         100|              N|          1|                 0.3|\n|       2|2017-02-28 17:21:44|2017-03-01 16:26:31|         138|         170|              N|          2|                 0.3|\n|       2|2017-03-02 00:07:44|2017-03-02 00:26:32|         144|         179|              N|          1|                 0.3|\n|       2|2017-02-28 18:07:28|2017-03-01 17:54:58|         237|         237|              N|          2|                 0.3|\n|       2|2017-03-02 01:20:36|2017-03-02 01:46:38|         249|         129|              N|          1|                 0.3|\n|       2|2017-02-28 11:07:30|2017-03-01 10:58:22|         236|         140|              N|          1|                 0.3|\n|       2|2017-03-01 23:16:36|2017-03-01 23:27:08|         230|         263|              N|          1|                 0.3|\n|       2|2017-02-28 15:16:50|2017-03-01 15:15:28|         246|         161|              N|          1|                 0.3|\n|       2|2017-03-01 20:39:07|2017-03-01 21:03:00|         249|         255|              N|          1|                 0.3|\n|       2|2017-02-28 15:41:09|2017-03-01 15:38:37|         162|         140|              N|          2|                 0.3|\n|       2|2017-03-01 23:05:51|2017-03-01 23:16:02|          79|         211|              N|          1|                 0.3|\n|       2|2017-02-28 14:27:16|2017-03-01 14:19:04|          48|         234|              N|          1|                 0.3|\n|       2|2017-03-01 23:07:45|2017-03-01 23:14:58|          65|         112|              N|          2|                 0.3|\n|       2|2017-02-28 14:41:11|2017-03-01 14:35:44|         164|         186|              N|          1|                 0.3|\n|       1|2017-03-02 06:20:28|2017-03-02 06:23:29|         140|         237|              N|          2|                 0.3|\n|       1|2017-03-02 17:43:52|2017-03-02 18:06:47|         145|         237|              N|          1|                 0.3|\n|       2|2017-03-02 01:09:55|2017-03-02 01:22:58|         141|           7|              N|          1|                 0.3|\n|       2|2017-03-02 16:45:57|2017-03-02 16:57:12|         237|         142|              N|          1|                 0.3|\n+--------+-------------------+-------------------+------------+------------+---------------+-----------+--------------------+\nonly showing top 20 rows\n\n"
     ]
    }
   ],
   "source": [
    "# DON'T RUN\n",
    "# From the schema we can see the following columns are non-numerical: vendorID (string), tpepPickupDateTime (timestamp), tpepDropoffDateTime (timestamp), puLocationId (string), doLocationId (string), storeAndFwdFlag (string), paymentType (string), and improvementSurcharge (string). Let's look at those columns so we can see how to address them. \n",
    "\n",
    "# select specific columns to view\n",
    "selected_df = df_truncated.select(\"vendorID\", \"tpepPickupDateTime\", \"tpepDropoffDateTime\", \"puLocationId\", \"doLocationId\", \"storeAndFwdFlag\", \"paymentType\",\"improvementSurcharge\")\n",
    "\n",
    "selected_df.show()"
   ]
  },
  {
   "cell_type": "code",
   "execution_count": 0,
   "metadata": {
    "application/vnd.databricks.v1+cell": {
     "cellMetadata": {
      "byteLimit": 2048000,
      "rowLimit": 10000
     },
     "inputWidgets": {},
     "nuid": "cca36d64-b199-4b9c-9e18-c5473fc5db5b",
     "showTitle": false,
     "title": ""
    }
   },
   "outputs": [
    {
     "output_type": "stream",
     "name": "stdout",
     "output_type": "stream",
     "text": [
      "Number of unique values in each selected column:\nvendorID: 3\ntpepPickupDateTime: 55505188\ntpepDropoffDateTime: 55564631\npuLocationId: 265\ndoLocationId: 264\nstoreAndFwdFlag: 2\npaymentType: 5\nimprovementSurcharge: 28\n"
     ]
    }
   ],
   "source": [
    "# DON'T RUN\n",
    "# how many unique values in these selected non-numeric columns?\n",
    "\n",
    "selected_columns = [\"vendorID\", \"tpepPickupDateTime\", \"tpepDropoffDateTime\", \"puLocationId\", \"doLocationId\", \"storeAndFwdFlag\", \"paymentType\",\"improvementSurcharge\"]\n",
    "\n",
    "unique_counts = {}\n",
    "\n",
    "for col_name in selected_columns:\n",
    "    unique_counts[col_name] = df_truncated.select(col_name).distinct().count()\n",
    "\n",
    "print(\"Number of unique values in each selected column:\")\n",
    "for col_name, count in unique_counts.items():\n",
    "    print(f\"{col_name}: {count}\")\n",
    "\n",
    "# Since tpepPickupDateTime and tpepDropoffDateTime are DateTime we do not want to transform those into numeric values bc we are doing a time series analysis and want to predict for the next hour. We want to ensure that the timestamps are in military time (if not we need to transform the data to be). This makes it easier to predict hourly and not worry if the time is AM or PM. Looking at the data the timestamps are in military time already."
   ]
  },
  {
   "cell_type": "code",
   "execution_count": 0,
   "metadata": {
    "application/vnd.databricks.v1+cell": {
     "cellMetadata": {
      "byteLimit": 2048000,
      "rowLimit": 10000
     },
     "inputWidgets": {},
     "nuid": "d4a5f4c2-5975-486e-9eac-cecbdd12f45f",
     "showTitle": false,
     "title": ""
    }
   },
   "outputs": [
    {
     "output_type": "stream",
     "name": "stdout",
     "output_type": "stream",
     "text": [
      "Unique values in column 'vendorID': ['1', '4', '2']\nUnique values in column 'puLocationId': ['125', '7', '124', '51', '169', '205', '234', '232', '54', '15', '155', '132', '154', '200', '11', '101', '138', '69', '29', '42', '112', '87', '73', '64', '3', '113', '30', '34', '133', '162', '59', '139', '146', '250', '8', '160', '258', '22', '28', '203', '184', '199', '85', '251', '52', '35', '16', '171', '183', '187', '71', '188', '98', '223', '195', '47', '99', '107', '214', '179', '202', '248', '96', '221', '43', '5', '163', '31', '100', '18', '70', '174', '206', '168', '224', '61', '218', '27', '75', '166', '219', '140', '17', '131', '126', '26', '227', '120', '46', '130', '164', '207', '147', '78', '208', '89', '228', '77', '198', '136', '257', '6', '118', '185', '230', '256', '201', '177', '246', '68', '90', '244', '229', '60', '194', '19', '41', '128', '23', '102', '55', '238', '263', '111', '220', '197', '167', '93', '95', '40', '38', '25', '189', '233', '190', '135', '44', '156', '144', '176', '82', '241', '115', '193', '53', '245', '231', '92', '122', '247', '108', '117', '86', '261', '58', '204', '81', '114', '33', '242', '213', '150', '170', '178', '48', '153', '259', '217', '141', '148', '180', '243', '173', '240', '239', '159', '97', '209', '158', '106', '67', '236', '84', '143', '79', '24', '9', '212', '116', '32', '186', '152', '88', '134', '1', '149', '237', '105', '20', '142', '56', '127', '211', '36', '10', '37', '165', '49', '255', '253', '222', '172', '181', '63', '65', '225', '235', '265', '4', '121', '252', '39', '210', '62', '12', '83', '215', '123', '109', '249', '13', '260', '157', '191', '21', '182', '14', '264', '66', '91', '94', '175', '137', '74', '72', '161', '151', '262', '129', '76', '196', '2', '254', '192', '226', '80', '145', '50', '45', '57', '216', '119', '110', '104', '103']\nUnique values in column 'doLocationId': ['125', '7', '51', '124', '169', '205', '234', '232', '15', '54', '155', '132', '154', '200', '11', '101', '138', '29', '69', '112', '42', '87', '73', '64', '3', '113', '30', '34', '133', '162', '59', '146', '139', '250', '160', '8', '258', '28', '22', '203', '184', '199', '85', '52', '251', '16', '35', '183', '171', '187', '71', '188', '98', '223', '195', '47', '99', '107', '214', '179', '202', '248', '96', '221', '43', '5', '163', '31', '100', '18', '70', '174', '206', '168', '224', '61', '218', '27', '75', '166', '219', '140', '17', '131', '126', '26', '227', '120', '46', '130', '164', '147', '207', '208', '78', '89', '228', '77', '198', '136', '257', '6', '118', '185', '230', '256', '201', '177', '246', '68', '244', '229', '90', '60', '104', '194', '19', '41', '128', '23', '102', '55', '238', '263', '111', '220', '197', '167', '95', '93', '40', '38', '25', '189', '233', '135', '156', '190', '44', '144', '176', '82', '241', '115', '193', '53', '245', '231', '92', '122', '247', '108', '117', '86', '261', '58', '204', '81', '114', '33', '242', '213', '150', '170', '178', '48', '259', '153', '217', '141', '148', '243', '173', '180', '240', '209', '239', '97', '159', '158', '67', '106', '236', '84', '143', '79', '24', '9', '212', '116', '32', '186', '152', '88', '134', '1', '149', '237', '105', '20', '142', '56', '127', '211', '36', '10', '37', '165', '49', '255', '222', '253', '172', '181', '63', '65', '225', '235', '265', '4', '121', '39', '252', '210', '62', '12', '83', '215', '123', '109', '249', '13', '260', '157', '191', '14', '21', '182', '264', '66', '91', '175', '94', '72', '137', '74', '161', '151', '262', '129', '76', '196', '2', '254', '192', '226', '80', '50', '145', '45', '57', '216', '119', '110']\nUnique values in column 'storeAndFwdFlag': ['Y', 'N']\nUnique values in column 'paymentType': ['3', '5', '1', '4', '2']\nUnique values in column 'improvementSurcharge': ['0.11', '0.3', '0.25', '0', '0.08', '0.5', '-0.3', '1', '0.17', '0.55', '4000.3', '0.6', '0.42', '0.45', '0.1', '0.18', '0.01', '3000', '0.32', '0.57', '0.2', '0.12', '0.22', '0.26', '0.19', '0.48', '0.29', '1.26']\n"
     ]
    }
   ],
   "source": [
    "# DON'T RUN\n",
    "# list out the unique values for all those non-numeric columns except tpepPickupDateTime and tpepDropoffDateTime\n",
    "\n",
    "selected_columns = [\"vendorID\", \"puLocationId\", \"doLocationId\", \"storeAndFwdFlag\", \"paymentType\",\"improvementSurcharge\"]\n",
    "\n",
    "for col_name in selected_columns:\n",
    "    unique_values = df_truncated.select(col_name).distinct().rdd.flatMap(lambda x: x).collect()\n",
    "    print(f\"Unique values in column '{col_name}': {unique_values}\")\n",
    "\n",
    "\n",
    "# From the selected df with non-numeric data (except the datetime columns we excluded here) we can see that vendorID is numeric, pulLocationID is numeric, doLocationID numeric, storeAndFWDFlag is either Y or N (can change that to int, 1 = Y and 0 = N), paymentType is numeric, and improvementSurcharge is a float. "
   ]
  },
  {
   "cell_type": "code",
   "execution_count": 0,
   "metadata": {
    "application/vnd.databricks.v1+cell": {
     "cellMetadata": {
      "byteLimit": 2048000,
      "rowLimit": 10000
     },
     "inputWidgets": {},
     "nuid": "87e79240-6022-420a-b5a9-b0b2d39163cb",
     "showTitle": false,
     "title": ""
    }
   },
   "outputs": [
    {
     "output_type": "stream",
     "name": "stdout",
     "output_type": "stream",
     "text": [
      "root\n |-- vendorID: integer (nullable = true)\n |-- tpepPickupDateTime: timestamp (nullable = true)\n |-- tpepDropoffDateTime: timestamp (nullable = true)\n |-- passengerCount: integer (nullable = true)\n |-- tripDistance: double (nullable = true)\n |-- puLocationId: integer (nullable = true)\n |-- doLocationId: integer (nullable = true)\n |-- rateCodeId: integer (nullable = true)\n |-- storeAndFwdFlag: integer (nullable = false)\n |-- paymentType: integer (nullable = true)\n |-- fareAmount: double (nullable = true)\n |-- extra: double (nullable = true)\n |-- mtaTax: double (nullable = true)\n |-- improvementSurcharge: double (nullable = true)\n |-- tipAmount: double (nullable = true)\n |-- tollsAmount: double (nullable = true)\n |-- totalAmount: double (nullable = true)\n |-- puYear: integer (nullable = true)\n |-- puMonth: integer (nullable = true)\n\n"
     ]
    }
   ],
   "source": [
    "# RUN\n",
    "# transform non-numeric columns to numeric data types\n",
    "\n",
    "df_truncated = df_truncated \\\n",
    "    .withColumn(\"vendorID\", col(\"vendorID\").cast(\"int\")) \\\n",
    "    .withColumn(\"puLocationId\", col(\"puLocationId\").cast(\"int\")) \\\n",
    "    .withColumn(\"doLocationId\", col(\"doLocationId\").cast(\"int\")) \\\n",
    "    .withColumn(\"paymentType\", col(\"paymentType\").cast(\"int\")) \\\n",
    "    .withColumn(\"storeAndFwdFlag\", when(col(\"storeAndFwdFlag\") == 'Y', 1).otherwise(0).cast(\"int\")) \\\n",
    "    .withColumn(\"improvementSurcharge\", col(\"improvementSurcharge\").cast(\"double\"))\n",
    "\n",
    "df_truncated.printSchema()"
   ]
  },
  {
   "cell_type": "code",
   "execution_count": 0,
   "metadata": {
    "application/vnd.databricks.v1+cell": {
     "cellMetadata": {
      "byteLimit": 2048000,
      "rowLimit": 10000
     },
     "inputWidgets": {},
     "nuid": "9a6b7a54-fb33-49be-9ca5-1b8520aed2dd",
     "showTitle": false,
     "title": ""
    }
   },
   "outputs": [
    {
     "output_type": "stream",
     "name": "stdout",
     "output_type": "stream",
     "text": [
      "+--------+-------------------+-------------------+--------------+------------+------------+------------+----------+---------------+-----------+----------+-----+------+--------------------+---------+-----------+-----------+------+-------+\n|vendorID| tpepPickupDateTime|tpepDropoffDateTime|passengerCount|tripDistance|puLocationId|doLocationId|rateCodeId|storeAndFwdFlag|paymentType|fareAmount|extra|mtaTax|improvementSurcharge|tipAmount|tollsAmount|totalAmount|puYear|puMonth|\n+--------+-------------------+-------------------+--------------+------------+------------+------------+----------+---------------+-----------+----------+-----+------+--------------------+---------+-----------+-----------+------+-------+\n|       1|2017-03-02 07:59:01|2017-03-02 08:12:48|             1|         1.4|         238|         236|         1|              0|          1|       9.5|  0.0|   0.5|                 0.3|      0.0|        0.0|       10.3|  2017|      3|\n|       2|2017-02-28 12:03:31|2017-03-01 11:58:41|             6|        0.87|         263|         140|         1|              0|          1|       5.5|  0.0|   0.5|                 0.3|      0.0|        0.0|        6.3|  2017|      3|\n|       1|2017-03-02 00:46:47|2017-03-02 00:52:13|             1|         0.9|          48|         100|         1|              0|          1|       5.5|  0.5|   0.5|                 0.3|     1.35|        0.0|       8.15|  2017|      3|\n|       2|2017-02-28 17:21:44|2017-03-01 16:26:31|             2|        11.4|         138|         170|         1|              0|          2|      34.5|  1.0|   0.5|                 0.3|      0.0|       5.54|      41.84|  2017|      3|\n|       2|2017-03-02 00:07:44|2017-03-02 00:26:32|             1|        9.27|         144|         179|         1|              0|          1|      27.5|  0.5|   0.5|                 0.3|     3.08|        0.0|      31.88|  2017|      3|\n|       2|2017-02-28 18:07:28|2017-03-01 17:54:58|             1|        0.02|         237|         237|         1|              0|          2|       3.0|  1.0|   0.5|                 0.3|      0.0|        0.0|        4.8|  2017|      3|\n|       2|2017-03-02 01:20:36|2017-03-02 01:46:38|             1|        7.38|         249|         129|         1|              0|          1|      24.0|  0.5|   0.5|                 0.3|     5.06|        0.0|      30.36|  2017|      3|\n|       2|2017-02-28 11:07:30|2017-03-01 10:58:22|             1|        1.11|         236|         140|         1|              0|          1|      10.0|  0.0|   0.5|                 0.3|     2.16|        0.0|      12.96|  2017|      3|\n|       2|2017-03-01 23:16:36|2017-03-01 23:27:08|             1|        2.51|         230|         263|         1|              0|          1|      10.0|  0.5|   0.5|                 0.3|     2.26|        0.0|      13.56|  2017|      3|\n|       2|2017-02-28 15:16:50|2017-03-01 15:15:28|             1|        1.46|         246|         161|         1|              0|          1|       8.5|  0.0|   0.5|                 0.3|     1.86|        0.0|      11.16|  2017|      3|\n|       2|2017-03-01 20:39:07|2017-03-01 21:03:00|             1|        4.16|         249|         255|         1|              0|          1|      19.0|  0.5|   0.5|                 0.3|     4.06|        0.0|      24.36|  2017|      3|\n|       2|2017-02-28 15:41:09|2017-03-01 15:38:37|             1|        1.97|         162|         140|         1|              0|          2|      14.5|  0.0|   0.5|                 0.3|      0.0|        0.0|       15.3|  2017|      3|\n|       2|2017-03-01 23:05:51|2017-03-01 23:16:02|             1|        1.69|          79|         211|         1|              0|          1|       9.0|  0.5|   0.5|                 0.3|     2.06|        0.0|      12.36|  2017|      3|\n|       2|2017-02-28 14:27:16|2017-03-01 14:19:04|             1|        1.62|          48|         234|         1|              0|          1|      11.0|  0.0|   0.5|                 0.3|     2.36|        0.0|      14.16|  2017|      3|\n|       2|2017-03-01 23:07:45|2017-03-01 23:14:58|             1|        3.71|          65|         112|         1|              0|          2|      12.0|  0.5|   0.5|                 0.3|      0.0|        0.0|       13.3|  2017|      3|\n|       2|2017-02-28 14:41:11|2017-03-01 14:35:44|             5|        0.72|         164|         186|         1|              0|          1|       7.5|  0.0|   0.5|                 0.3|     1.66|        0.0|       9.96|  2017|      3|\n|       1|2017-03-02 06:20:28|2017-03-02 06:23:29|             1|         0.6|         140|         237|         1|              0|          2|       4.5|  0.0|   0.5|                 0.3|      0.0|        0.0|        5.3|  2017|      3|\n|       1|2017-03-02 17:43:52|2017-03-02 18:06:47|             1|         4.3|         145|         237|         2|              0|          1|      52.0|  4.5|   0.5|                 0.3|    12.55|       5.54|      75.39|  2017|      3|\n|       2|2017-03-02 01:09:55|2017-03-02 01:22:58|             1|        3.72|         141|           7|         1|              0|          1|      13.5|  0.5|   0.5|                 0.3|      3.7|        0.0|       18.5|  2017|      3|\n|       2|2017-03-02 16:45:57|2017-03-02 16:57:12|             5|        1.82|         237|         142|         1|              0|          1|       9.5|  1.0|   0.5|                 0.3|     3.39|        0.0|      14.69|  2017|      3|\n+--------+-------------------+-------------------+--------------+------------+------------+------------+----------+---------------+-----------+----------+-----+------+--------------------+---------+-----------+-----------+------+-------+\nonly showing top 20 rows\n\n"
     ]
    }
   ],
   "source": [
    "# DON'T RUN\n",
    "# inspect data to make sure no issues with transformation of data types\n",
    "df_truncated.show()"
   ]
  },
  {
   "cell_type": "markdown",
   "metadata": {
    "application/vnd.databricks.v1+cell": {
     "cellMetadata": {},
     "inputWidgets": {},
     "nuid": "9d4f9898-6c78-4219-aad7-3e0f0fd33370",
     "showTitle": false,
     "title": ""
    }
   },
   "source": [
    "##### c. List out raw features, derived features that you plan to implement/use\n"
   ]
  },
  {
   "cell_type": "code",
   "execution_count": 0,
   "metadata": {
    "application/vnd.databricks.v1+cell": {
     "cellMetadata": {},
     "inputWidgets": {},
     "nuid": "6cd02e6d-42f0-42f6-9c57-39b57b6ce6b6",
     "showTitle": false,
     "title": ""
    }
   },
   "outputs": [],
   "source": [
    "# First, data cleaning\n",
    "# Remove zero distance trips\n",
    "# Remove under 1 minute rides\n",
    "# Remove no passengers\n",
    "\n",
    "# Second, derived features\n",
    "# create indication if weekday/weekend as this could affect the number of taxis needed\n",
    "# create indication if holiday (1) or not (0).\n",
    "# create week number\n",
    "\n",
    "# Third, remove columns from df_truncated not needed and explain why keep/remove columns. Keep only columns that could be useful in predicting taxi demand in the zones. \n",
    "# To predict the hourly demand for NYC taxi services in each zone, certain columns from the dataset would be more relevant while others may not contribute. Initial ideas for useful and non-useful columns are:\n",
    "\n",
    "# Useful Columns:\n",
    "\n",
    "# 1. tpepPickupDateTime and tpepDropoffDateTime: These columns provide the timestamp information for when the meter was engaged and disengaged. They are crucial for analyzing the temporal aspect of taxi demand.\n",
    "\n",
    "# 2. passengerCount: Number of passengers in the vehicle could impact the demand, especially during peak hours or events.\n",
    "\n",
    "# 3. tripDistance: Elapsed trip distance provides insight into the length of trips, which can correlate with demand.\n",
    "\n",
    "# 4. puLocationId and doLocationId: These columns indicate the Taxi Zone where the pickup and dropoff occurred, which is essential for spatial analysis and understanding demand patterns across different zones.\n",
    "\n",
    "# 5. paymentType: Knowing how passengers paid for the trip can provide insights into customer preferences and behavior.\n",
    "\n",
    "# 6. fareAmount and totalAmount: These columns represent the fare and total amount charged to passengers, respectively, which could be indicative of demand trends.\n",
    "\n",
    "# 7. puYear and puMonth: These columns provide additional temporal information, enabling analysis at yearly and monthly levels.\n",
    "\n",
    "# Less Useful Columns:\n",
    "\n",
    "# 1. vendorID: The provider of the record might not directly impact taxi demand analysis.\n",
    "\n",
    "# 2. rateCodeId: Final rate code might not directly influence demand prediction.\n",
    "\n",
    "# 3. storeAndFwdFlag: This flag indicating whether the trip record was held in vehicle memory may not be relevant for demand analysis.\n",
    "\n",
    "# 4. extra, improvementSurcharge, mtaTax, tipAmount, tollsAmount: While these columns are relevant for fare calculation and billing, they might not directly affect demand prediction.\n",
    "\n",
    "# 5. startLat, startLon, endLat, endLon: These columns provide latitude and longitude information, which might be useful for spatial analysis but less so for hourly demand prediction. (already dropped these columns)\n",
    "\n",
    "# Do correlation analysis for columns to see if there is important columns we should use. "
   ]
  },
  {
   "cell_type": "code",
   "execution_count": 0,
   "metadata": {
    "application/vnd.databricks.v1+cell": {
     "cellMetadata": {
      "byteLimit": 2048000,
      "rowLimit": 10000
     },
     "inputWidgets": {},
     "nuid": "c3955756-8915-4d50-8503-d9a4e0a1734f",
     "showTitle": false,
     "title": ""
    }
   },
   "outputs": [
    {
     "output_type": "stream",
     "name": "stdout",
     "output_type": "stream",
     "text": [
      "+--------+-------------------+-------------------+--------------+------------+------------+------------+----------+---------------+-----------+----------+-----+------+--------------------+---------+-----------+-----------+------+-------+------------------+\n|vendorID| tpepPickupDateTime|tpepDropoffDateTime|passengerCount|tripDistance|puLocationId|doLocationId|rateCodeId|storeAndFwdFlag|paymentType|fareAmount|extra|mtaTax|improvementSurcharge|tipAmount|tollsAmount|totalAmount|puYear|puMonth|     ride_duration|\n+--------+-------------------+-------------------+--------------+------------+------------+------------+----------+---------------+-----------+----------+-----+------+--------------------+---------+-----------+-----------+------+-------+------------------+\n|       1|2017-03-02 07:59:01|2017-03-02 08:12:48|             1|         1.4|         238|         236|         1|              0|          1|       9.5|  0.0|   0.5|                 0.3|      0.0|        0.0|       10.3|  2017|      3|13.783333333333333|\n|       2|2017-02-28 12:03:31|2017-03-01 11:58:41|             6|        0.87|         263|         140|         1|              0|          1|       5.5|  0.0|   0.5|                 0.3|      0.0|        0.0|        6.3|  2017|      3|1435.1666666666667|\n|       1|2017-03-02 00:46:47|2017-03-02 00:52:13|             1|         0.9|          48|         100|         1|              0|          1|       5.5|  0.5|   0.5|                 0.3|     1.35|        0.0|       8.15|  2017|      3| 5.433333333333334|\n|       2|2017-02-28 17:21:44|2017-03-01 16:26:31|             2|        11.4|         138|         170|         1|              0|          2|      34.5|  1.0|   0.5|                 0.3|      0.0|       5.54|      41.84|  2017|      3|1384.7833333333333|\n|       2|2017-03-02 00:07:44|2017-03-02 00:26:32|             1|        9.27|         144|         179|         1|              0|          1|      27.5|  0.5|   0.5|                 0.3|     3.08|        0.0|      31.88|  2017|      3|              18.8|\n|       2|2017-02-28 18:07:28|2017-03-01 17:54:58|             1|        0.02|         237|         237|         1|              0|          2|       3.0|  1.0|   0.5|                 0.3|      0.0|        0.0|        4.8|  2017|      3|            1427.5|\n|       2|2017-03-02 01:20:36|2017-03-02 01:46:38|             1|        7.38|         249|         129|         1|              0|          1|      24.0|  0.5|   0.5|                 0.3|     5.06|        0.0|      30.36|  2017|      3|26.033333333333335|\n|       2|2017-02-28 11:07:30|2017-03-01 10:58:22|             1|        1.11|         236|         140|         1|              0|          1|      10.0|  0.0|   0.5|                 0.3|     2.16|        0.0|      12.96|  2017|      3|1430.8666666666666|\n|       2|2017-03-01 23:16:36|2017-03-01 23:27:08|             1|        2.51|         230|         263|         1|              0|          1|      10.0|  0.5|   0.5|                 0.3|     2.26|        0.0|      13.56|  2017|      3|10.533333333333333|\n|       2|2017-02-28 15:16:50|2017-03-01 15:15:28|             1|        1.46|         246|         161|         1|              0|          1|       8.5|  0.0|   0.5|                 0.3|     1.86|        0.0|      11.16|  2017|      3|1438.6333333333334|\n|       2|2017-03-01 20:39:07|2017-03-01 21:03:00|             1|        4.16|         249|         255|         1|              0|          1|      19.0|  0.5|   0.5|                 0.3|     4.06|        0.0|      24.36|  2017|      3|23.883333333333333|\n|       2|2017-02-28 15:41:09|2017-03-01 15:38:37|             1|        1.97|         162|         140|         1|              0|          2|      14.5|  0.0|   0.5|                 0.3|      0.0|        0.0|       15.3|  2017|      3|1437.4666666666667|\n|       2|2017-03-01 23:05:51|2017-03-01 23:16:02|             1|        1.69|          79|         211|         1|              0|          1|       9.0|  0.5|   0.5|                 0.3|     2.06|        0.0|      12.36|  2017|      3|10.183333333333334|\n|       2|2017-02-28 14:27:16|2017-03-01 14:19:04|             1|        1.62|          48|         234|         1|              0|          1|      11.0|  0.0|   0.5|                 0.3|     2.36|        0.0|      14.16|  2017|      3|            1431.8|\n|       2|2017-03-01 23:07:45|2017-03-01 23:14:58|             1|        3.71|          65|         112|         1|              0|          2|      12.0|  0.5|   0.5|                 0.3|      0.0|        0.0|       13.3|  2017|      3| 7.216666666666667|\n|       2|2017-02-28 14:41:11|2017-03-01 14:35:44|             5|        0.72|         164|         186|         1|              0|          1|       7.5|  0.0|   0.5|                 0.3|     1.66|        0.0|       9.96|  2017|      3|           1434.55|\n|       1|2017-03-02 06:20:28|2017-03-02 06:23:29|             1|         0.6|         140|         237|         1|              0|          2|       4.5|  0.0|   0.5|                 0.3|      0.0|        0.0|        5.3|  2017|      3|3.0166666666666666|\n|       1|2017-03-02 17:43:52|2017-03-02 18:06:47|             1|         4.3|         145|         237|         2|              0|          1|      52.0|  4.5|   0.5|                 0.3|    12.55|       5.54|      75.39|  2017|      3|22.916666666666668|\n|       2|2017-03-02 01:09:55|2017-03-02 01:22:58|             1|        3.72|         141|           7|         1|              0|          1|      13.5|  0.5|   0.5|                 0.3|      3.7|        0.0|       18.5|  2017|      3|             13.05|\n|       2|2017-03-02 16:45:57|2017-03-02 16:57:12|             5|        1.82|         237|         142|         1|              0|          1|       9.5|  1.0|   0.5|                 0.3|     3.39|        0.0|      14.69|  2017|      3|             11.25|\n+--------+-------------------+-------------------+--------------+------------+------------+------------+----------+---------------+-----------+----------+-----+------+--------------------+---------+-----------+-----------+------+-------+------------------+\nonly showing top 20 rows\n\n"
     ]
    }
   ],
   "source": [
    "# RUN\n",
    "# First part: Data Cleaning. \n",
    "# Remove Zero distance (tripDistance > 0)\n",
    "# Remove Under 1 minute rides\n",
    "# Remove No passengers (passengerCount > 0)\n",
    "\n",
    "# Convert tpepPickupDateTime and tpepDropoffDateTime to dt objects\n",
    "df_truncated = df_truncated.withColumn('tpepPickupDateTime', df_truncated['tpepPickupDateTime'].cast('timestamp'))\n",
    "df_truncated = df_truncated.withColumn('tpepDropoffDateTime', df_truncated['tpepDropoffDateTime'].cast('timestamp'))\n",
    "\n",
    "# calculate ride time in minutes\n",
    "df_truncated = df_truncated.withColumn('ride_duration', # in minutes\n",
    "                                       (expr('unix_timestamp(tpepDropoffDateTime) - unix_timestamp(tpepPickupDateTime)') / 60).cast('double'))\n",
    "\n",
    "\n",
    "# data cleaning\n",
    "cleaned_df = df_truncated[(df_truncated['tripDistance'] > 0) & (df_truncated['passengerCount'] > 0) & (df_truncated['ride_duration'] >= 1)]\n",
    "\n",
    "cleaned_df.show()"
   ]
  },
  {
   "cell_type": "code",
   "execution_count": 0,
   "metadata": {
    "application/vnd.databricks.v1+cell": {
     "cellMetadata": {
      "byteLimit": 2048000,
      "rowLimit": 10000
     },
     "inputWidgets": {},
     "nuid": "2b22d9b5-20ae-4e42-a23c-4b854c3de011",
     "showTitle": false,
     "title": ""
    }
   },
   "outputs": [
    {
     "output_type": "stream",
     "name": "stdout",
     "output_type": "stream",
     "text": [
      "root\n |-- vendorID: integer (nullable = true)\n |-- tpepPickupDateTime: timestamp (nullable = true)\n |-- tpepDropoffDateTime: timestamp (nullable = true)\n |-- passengerCount: integer (nullable = true)\n |-- tripDistance: double (nullable = true)\n |-- puLocationId: integer (nullable = true)\n |-- doLocationId: integer (nullable = true)\n |-- rateCodeId: integer (nullable = true)\n |-- storeAndFwdFlag: integer (nullable = false)\n |-- paymentType: integer (nullable = true)\n |-- fareAmount: double (nullable = true)\n |-- extra: double (nullable = true)\n |-- mtaTax: double (nullable = true)\n |-- improvementSurcharge: double (nullable = true)\n |-- tipAmount: double (nullable = true)\n |-- tollsAmount: double (nullable = true)\n |-- totalAmount: double (nullable = true)\n |-- puYear: integer (nullable = true)\n |-- puMonth: integer (nullable = true)\n |-- ride_duration: double (nullable = true)\n\n"
     ]
    }
   ],
   "source": [
    "# DON'T RUN\n",
    "cleaned_df.printSchema()"
   ]
  },
  {
   "cell_type": "code",
   "execution_count": 0,
   "metadata": {
    "application/vnd.databricks.v1+cell": {
     "cellMetadata": {
      "byteLimit": 2048000,
      "rowLimit": 10000
     },
     "inputWidgets": {},
     "nuid": "56ea87e2-672a-46c1-9045-735177de46ac",
     "showTitle": false,
     "title": ""
    }
   },
   "outputs": [
    {
     "output_type": "stream",
     "name": "stdout",
     "output_type": "stream",
     "text": [
      "Number of rows in truncated data: 213027293\n"
     ]
    }
   ],
   "source": [
    "# DON'T RUN\n",
    "# how many rows in clean_df?\n",
    "row_count = cleaned_df.count()\n",
    "print(\"Number of rows in truncated data:\", row_count)\n",
    "\n",
    "# About 213M rows left in clean df"
   ]
  },
  {
   "cell_type": "code",
   "execution_count": 0,
   "metadata": {
    "application/vnd.databricks.v1+cell": {
     "cellMetadata": {
      "byteLimit": 2048000,
      "rowLimit": 10000
     },
     "inputWidgets": {},
     "nuid": "30d2808a-3fe4-450e-99f7-6ee81bbe8c6b",
     "showTitle": false,
     "title": ""
    }
   },
   "outputs": [
    {
     "output_type": "stream",
     "name": "stdout",
     "output_type": "stream",
     "text": [
      "root\n |-- vendorID: integer (nullable = true)\n |-- tpepPickupDateTime: timestamp (nullable = true)\n |-- tpepDropoffDateTime: timestamp (nullable = true)\n |-- passengerCount: integer (nullable = true)\n |-- tripDistance: double (nullable = true)\n |-- puLocationId: integer (nullable = true)\n |-- doLocationId: integer (nullable = true)\n |-- rateCodeId: integer (nullable = true)\n |-- storeAndFwdFlag: integer (nullable = false)\n |-- paymentType: integer (nullable = true)\n |-- fareAmount: double (nullable = true)\n |-- extra: double (nullable = true)\n |-- mtaTax: double (nullable = true)\n |-- improvementSurcharge: double (nullable = true)\n |-- tipAmount: double (nullable = true)\n |-- tollsAmount: double (nullable = true)\n |-- totalAmount: double (nullable = true)\n |-- puYear: integer (nullable = true)\n |-- puMonth: integer (nullable = true)\n\n"
     ]
    }
   ],
   "source": [
    "# RUN\n",
    "# can drop ride_duration now that df is clean\n",
    "cleaned_df = cleaned_df.drop('ride_duration')\n",
    "cleaned_df.printSchema() # sanity check it is gone"
   ]
  },
  {
   "cell_type": "code",
   "execution_count": 0,
   "metadata": {
    "application/vnd.databricks.v1+cell": {
     "cellMetadata": {
      "byteLimit": 2048000,
      "rowLimit": 10000
     },
     "inputWidgets": {},
     "nuid": "3636e82b-b051-4336-ac78-ce92f085d7b9",
     "showTitle": false,
     "title": ""
    }
   },
   "outputs": [
    {
     "output_type": "stream",
     "name": "stdout",
     "output_type": "stream",
     "text": [
      "+--------+-------------------+-------------------+--------------+------------+------------+------------+----------+---------------+-----------+----------+-----+------+--------------------+---------+-----------+-----------+------+-------+----------+----------+-----------+\n|vendorID| tpepPickupDateTime|tpepDropoffDateTime|passengerCount|tripDistance|puLocationId|doLocationId|rateCodeId|storeAndFwdFlag|paymentType|fareAmount|extra|mtaTax|improvementSurcharge|tipAmount|tollsAmount|totalAmount|puYear|puMonth|is_weekend|is_holiday|week_number|\n+--------+-------------------+-------------------+--------------+------------+------------+------------+----------+---------------+-----------+----------+-----+------+--------------------+---------+-----------+-----------+------+-------+----------+----------+-----------+\n|       1|2017-03-02 07:59:01|2017-03-02 08:12:48|             1|         1.4|         238|         236|         1|              0|          1|       9.5|  0.0|   0.5|                 0.3|      0.0|        0.0|       10.3|  2017|      3|         0|         0|          9|\n|       2|2017-02-28 12:03:31|2017-03-01 11:58:41|             6|        0.87|         263|         140|         1|              0|          1|       5.5|  0.0|   0.5|                 0.3|      0.0|        0.0|        6.3|  2017|      3|         0|         0|          9|\n|       1|2017-03-02 00:46:47|2017-03-02 00:52:13|             1|         0.9|          48|         100|         1|              0|          1|       5.5|  0.5|   0.5|                 0.3|     1.35|        0.0|       8.15|  2017|      3|         0|         0|          9|\n|       2|2017-02-28 17:21:44|2017-03-01 16:26:31|             2|        11.4|         138|         170|         1|              0|          2|      34.5|  1.0|   0.5|                 0.3|      0.0|       5.54|      41.84|  2017|      3|         0|         0|          9|\n|       2|2017-03-02 00:07:44|2017-03-02 00:26:32|             1|        9.27|         144|         179|         1|              0|          1|      27.5|  0.5|   0.5|                 0.3|     3.08|        0.0|      31.88|  2017|      3|         0|         0|          9|\n|       2|2017-02-28 18:07:28|2017-03-01 17:54:58|             1|        0.02|         237|         237|         1|              0|          2|       3.0|  1.0|   0.5|                 0.3|      0.0|        0.0|        4.8|  2017|      3|         0|         0|          9|\n|       2|2017-03-02 01:20:36|2017-03-02 01:46:38|             1|        7.38|         249|         129|         1|              0|          1|      24.0|  0.5|   0.5|                 0.3|     5.06|        0.0|      30.36|  2017|      3|         0|         0|          9|\n|       2|2017-02-28 11:07:30|2017-03-01 10:58:22|             1|        1.11|         236|         140|         1|              0|          1|      10.0|  0.0|   0.5|                 0.3|     2.16|        0.0|      12.96|  2017|      3|         0|         0|          9|\n|       2|2017-03-01 23:16:36|2017-03-01 23:27:08|             1|        2.51|         230|         263|         1|              0|          1|      10.0|  0.5|   0.5|                 0.3|     2.26|        0.0|      13.56|  2017|      3|         0|         0|          9|\n|       2|2017-02-28 15:16:50|2017-03-01 15:15:28|             1|        1.46|         246|         161|         1|              0|          1|       8.5|  0.0|   0.5|                 0.3|     1.86|        0.0|      11.16|  2017|      3|         0|         0|          9|\n|       2|2017-03-01 20:39:07|2017-03-01 21:03:00|             1|        4.16|         249|         255|         1|              0|          1|      19.0|  0.5|   0.5|                 0.3|     4.06|        0.0|      24.36|  2017|      3|         0|         0|          9|\n|       2|2017-02-28 15:41:09|2017-03-01 15:38:37|             1|        1.97|         162|         140|         1|              0|          2|      14.5|  0.0|   0.5|                 0.3|      0.0|        0.0|       15.3|  2017|      3|         0|         0|          9|\n|       2|2017-03-01 23:05:51|2017-03-01 23:16:02|             1|        1.69|          79|         211|         1|              0|          1|       9.0|  0.5|   0.5|                 0.3|     2.06|        0.0|      12.36|  2017|      3|         0|         0|          9|\n|       2|2017-02-28 14:27:16|2017-03-01 14:19:04|             1|        1.62|          48|         234|         1|              0|          1|      11.0|  0.0|   0.5|                 0.3|     2.36|        0.0|      14.16|  2017|      3|         0|         0|          9|\n|       2|2017-03-01 23:07:45|2017-03-01 23:14:58|             1|        3.71|          65|         112|         1|              0|          2|      12.0|  0.5|   0.5|                 0.3|      0.0|        0.0|       13.3|  2017|      3|         0|         0|          9|\n|       2|2017-02-28 14:41:11|2017-03-01 14:35:44|             5|        0.72|         164|         186|         1|              0|          1|       7.5|  0.0|   0.5|                 0.3|     1.66|        0.0|       9.96|  2017|      3|         0|         0|          9|\n|       1|2017-03-02 06:20:28|2017-03-02 06:23:29|             1|         0.6|         140|         237|         1|              0|          2|       4.5|  0.0|   0.5|                 0.3|      0.0|        0.0|        5.3|  2017|      3|         0|         0|          9|\n|       1|2017-03-02 17:43:52|2017-03-02 18:06:47|             1|         4.3|         145|         237|         2|              0|          1|      52.0|  4.5|   0.5|                 0.3|    12.55|       5.54|      75.39|  2017|      3|         0|         0|          9|\n|       2|2017-03-02 01:09:55|2017-03-02 01:22:58|             1|        3.72|         141|           7|         1|              0|          1|      13.5|  0.5|   0.5|                 0.3|      3.7|        0.0|       18.5|  2017|      3|         0|         0|          9|\n|       2|2017-03-02 16:45:57|2017-03-02 16:57:12|             5|        1.82|         237|         142|         1|              0|          1|       9.5|  1.0|   0.5|                 0.3|     3.39|        0.0|      14.69|  2017|      3|         0|         0|          9|\n+--------+-------------------+-------------------+--------------+------------+------------+------------+----------+---------------+-----------+----------+-----+------+--------------------+---------+-----------+-----------+------+-------+----------+----------+-----------+\nonly showing top 20 rows\n\n"
     ]
    }
   ],
   "source": [
    "# RUN\n",
    "# Second, derived features\n",
    "# Create indication if weekday/weekend as this could affect the number of taxis needed\n",
    "# Create indication if holiday (1) or not (0).\n",
    "# Create week number\n",
    "\n",
    "# indication if weekday/weekend\n",
    "cleaned_df = cleaned_df.withColumn('is_weekend', when(dayofweek(cleaned_df['tpepPickupDateTime']) >= 6, 1).otherwise(0)) \n",
    "# use the dayofweek() function to get the day of the week (1 for Sunday, 2 for Monday, ..., 7 for Saturday). If the day of the week is 6 or 7 (which is Saturday or Sunday), we set the is_weekend column to 1 (weekend); otherwise, it's set to 0 (weekday).\n",
    "\n",
    "# Recreate a SparkSession. Issue with holiday dates and get this error: You may get a different result due to the upgrading to Spark >= 3.0: Fail to recognize 'w' pattern in the DateTimeFormatter. 1) You can set \"spark.sql.legacy.timeParserPolicy\" to \"LEGACY\" to restore the behavior before Spark 3.0. 2) You can form a valid datetime pattern with the guide from 'https://spark.apache.org/docs/latest/sql-ref-datetime-pattern.html'. To fix add spark code below to recreate spark session\n",
    "spark = SparkSession.builder \\\n",
    "    .appName(\"YourApp\") \\\n",
    "    .config(\"spark.sql.legacy.timeParserPolicy\", \"LEGACY\") \\\n",
    "    .getOrCreate()\n",
    "\n",
    "# indication if holiday\n",
    "# a list of holidays in `holiday_dates`: New Years, MLK day, Presidents day, Memorial Day, 4th of July, Labor Day, Thanksgiving, and Christmas\n",
    "holiday_dates = ['2017-01-01', '2018-01-01', '2017-01-16', '2018-01-15','2017-02-20','2018-02-19','2017-05-29', '2018-05-28','2017-07-04', '2018-07-04','2017-09-4','2018-09-03','2017-11-23', '2018-11-22', '2017-12-25', '2018-12-25'\n",
    "]  \n",
    "\n",
    "# 1 if holiday, 0 if not\n",
    "cleaned_df = cleaned_df.withColumn('is_holiday', when(date_format(cleaned_df['tpepPickupDateTime'], 'yyyy-MM-dd').isin(holiday_dates), 1).otherwise(0))\n",
    "\n",
    "# indicate week number of year\n",
    "cleaned_df = cleaned_df.withColumn('week_number', weekofyear(cleaned_df['tpepPickupDateTime']))\n",
    "\n",
    "cleaned_df.show()"
   ]
  },
  {
   "cell_type": "code",
   "execution_count": 0,
   "metadata": {
    "application/vnd.databricks.v1+cell": {
     "cellMetadata": {
      "byteLimit": 2048000,
      "rowLimit": 10000
     },
     "inputWidgets": {},
     "nuid": "65d74fe3-1a4c-450e-be35-45a773260ede",
     "showTitle": false,
     "title": ""
    }
   },
   "outputs": [
    {
     "output_type": "stream",
     "name": "stdout",
     "output_type": "stream",
     "text": [
      "Minimum week number: 1\nMaximum week number: 52\n"
     ]
    }
   ],
   "source": [
    "# DON'T RUN\n",
    "# check dervived features are correct\n",
    "\n",
    "# first check week number, min should be 1 and max should be 52 bc only 52 weeks in a yr\n",
    "min_week_number = cleaned_df.agg(F.min('week_number')).collect()[0][0]\n",
    "max_week_number = cleaned_df.agg(F.max('week_number')).collect()[0][0]\n",
    "\n",
    "print(\"Minimum week number:\", min_week_number)\n",
    "print(\"Maximum week number:\", max_week_number)"
   ]
  },
  {
   "cell_type": "code",
   "execution_count": 0,
   "metadata": {
    "application/vnd.databricks.v1+cell": {
     "cellMetadata": {
      "byteLimit": 2048000,
      "rowLimit": 10000
     },
     "inputWidgets": {},
     "nuid": "d7a0112e-28c6-4199-84c6-3415291d080a",
     "showTitle": false,
     "title": ""
    }
   },
   "outputs": [
    {
     "output_type": "stream",
     "name": "stdout",
     "output_type": "stream",
     "text": [
      "+--------+-------------------+-------------------+--------------+------------+------------+------------+----------+---------------+-----------+----------+-----+------+--------------------+---------+-----------+-----------+------+-------+----------+----------+-----------+\n|vendorID| tpepPickupDateTime|tpepDropoffDateTime|passengerCount|tripDistance|puLocationId|doLocationId|rateCodeId|storeAndFwdFlag|paymentType|fareAmount|extra|mtaTax|improvementSurcharge|tipAmount|tollsAmount|totalAmount|puYear|puMonth|is_weekend|is_holiday|week_number|\n+--------+-------------------+-------------------+--------------+------------+------------+------------+----------+---------------+-----------+----------+-----+------+--------------------+---------+-----------+-----------+------+-------+----------+----------+-----------+\n|       2|2018-07-04 20:38:06|2018-07-04 21:17:13|             1|       17.24|         132|         164|         2|              0|          2|      52.0|  0.0|   0.5|                 0.3|      0.0|       5.76|      58.56|  2018|      7|         0|         1|         27|\n|       2|2018-07-04 15:00:34|2018-07-04 15:02:29|             2|        0.26|         163|         162|         1|              0|          1|       3.5|  0.0|   0.5|                 0.3|     0.64|        0.0|       4.94|  2018|      7|         0|         1|         27|\n|       2|2018-07-04 07:34:25|2018-07-04 07:39:10|             1|        1.84|         140|         233|         1|              0|          1|       7.5|  0.0|   0.5|                 0.3|     1.66|        0.0|       9.96|  2018|      7|         0|         1|         27|\n|       2|2018-07-04 10:21:11|2018-07-04 10:23:19|             1|        0.51|         143|         143|         1|              0|          2|       4.0|  0.0|   0.5|                 0.3|      0.0|        0.0|        4.8|  2018|      7|         0|         1|         27|\n|       1|2018-07-04 09:50:35|2018-07-04 09:54:08|             1|         0.8|         263|         237|         1|              0|          2|       5.0|  0.0|   0.5|                 0.3|      0.0|        0.0|        5.8|  2018|      7|         0|         1|         27|\n|       1|2018-07-04 15:27:56|2018-07-04 15:42:47|             2|         1.3|         140|         140|         1|              0|          2|      10.5|  0.0|   0.5|                 0.3|      0.0|        0.0|       11.3|  2018|      7|         0|         1|         27|\n|       2|2018-07-04 19:37:45|2018-07-04 20:00:08|             1|        8.44|         138|          24|         1|              0|          1|      26.0|  0.0|   0.5|                 0.3|      6.0|       5.76|      38.56|  2018|      7|         0|         1|         27|\n|       2|2018-07-04 19:41:56|2018-07-04 19:46:45|             1|        0.75|         107|         137|         1|              0|          1|       5.0|  0.0|   0.5|                 0.3|     1.16|        0.0|       6.96|  2018|      7|         0|         1|         27|\n|       2|2018-07-04 17:09:46|2018-07-04 17:17:27|             5|        2.52|         140|          43|         1|              0|          1|       9.5|  0.0|   0.5|                 0.3|     2.06|        0.0|      12.36|  2018|      7|         0|         1|         27|\n|       2|2018-07-04 15:05:37|2018-07-04 15:10:51|             1|        0.97|          90|         158|         1|              0|          1|       5.5|  0.0|   0.5|                 0.3|     1.26|        0.0|       7.56|  2018|      7|         0|         1|         27|\n|       2|2018-07-04 16:23:55|2018-07-04 16:29:14|             1|        1.02|         170|         186|         1|              0|          1|       5.5|  0.0|   0.5|                 0.3|     1.26|        0.0|       7.56|  2018|      7|         0|         1|         27|\n|       1|2018-07-04 14:44:49|2018-07-04 14:59:06|             1|         2.3|         237|         246|         1|              0|          1|      11.5|  0.0|   0.5|                 0.3|      3.0|        0.0|       15.3|  2018|      7|         0|         1|         27|\n|       2|2018-07-04 14:44:35|2018-07-04 15:05:11|             6|        3.85|         161|         261|         1|              0|          2|      16.0|  0.0|   0.5|                 0.3|      0.0|        0.0|       16.8|  2018|      7|         0|         1|         27|\n|       2|2018-07-04 06:37:30|2018-07-04 06:53:25|             1|         5.8|         107|          75|         1|              0|          1|      19.5|  0.0|   0.5|                 0.3|     4.06|        0.0|      24.36|  2018|      7|         0|         1|         27|\n|       2|2018-07-04 15:54:23|2018-07-04 16:23:56|             1|        6.02|         163|          13|         1|              0|          2|      23.0|  0.0|   0.5|                 0.3|      0.0|        0.0|       23.8|  2018|      7|         0|         1|         27|\n|       1|2018-07-04 13:22:34|2018-07-04 13:28:22|             3|         0.7|          74|          74|         1|              0|          2|       5.5|  0.0|   0.5|                 0.3|      0.0|        0.0|        6.3|  2018|      7|         0|         1|         27|\n|       1|2018-07-04 16:22:53|2018-07-04 16:24:52|             1|         0.3|          48|          48|         1|              0|          2|       3.5|  0.0|   0.5|                 0.3|      0.0|        0.0|        4.3|  2018|      7|         0|         1|         27|\n|       2|2018-07-04 09:21:33|2018-07-04 09:31:34|             6|         2.5|         113|         162|         1|              0|          1|      10.0|  0.0|   0.5|                 0.3|     2.16|        0.0|      12.96|  2018|      7|         0|         1|         27|\n|       2|2018-07-04 12:44:27|2018-07-04 12:48:17|             1|        0.92|         142|         163|         1|              0|          1|       5.0|  0.0|   0.5|                 0.3|     0.99|        0.0|       6.79|  2018|      7|         0|         1|         27|\n|       1|2018-07-04 16:03:57|2018-07-04 16:07:35|             1|         0.5|         263|          75|         1|              0|          2|       4.5|  0.0|   0.5|                 0.3|      0.0|        0.0|        5.3|  2018|      7|         0|         1|         27|\n+--------+-------------------+-------------------+--------------+------------+------------+------------+----------+---------------+-----------+----------+-----+------+--------------------+---------+-----------+-----------+------+-------+----------+----------+-----------+\nonly showing top 20 rows\n\n"
     ]
    }
   ],
   "source": [
    "# DON'T RUN\n",
    "# validate columns\n",
    "\n",
    "# Look at regular nonholiday, should be 1\n",
    "# specific_date = '2017-11-07' # this is week 45 so should have 45 in week_number and a 0 in is_holiday and 0 for is_weekend. This is good, the numbers are correct in the df. Check another date.\n",
    "#specific_date = '2018-02-03' # this is week 5 so should have 5 in week_number and 0 in is_holiday and 1 for is_weekend. This is good too. Now check for a holiday.\n",
    "specific_date = '2018-07-04' # this is week 27, 1 for is_holiday, and 0 for is_weekend\n",
    "\n",
    "filtered_df = cleaned_df.filter(col('tpepPickupDateTime').cast('date') == specific_date)\n",
    "\n",
    "filtered_df.show()\n",
    "\n",
    "# validation check a success, all derived features are correct."
   ]
  },
  {
   "cell_type": "code",
   "execution_count": 0,
   "metadata": {
    "application/vnd.databricks.v1+cell": {
     "cellMetadata": {
      "byteLimit": 2048000,
      "rowLimit": 10000
     },
     "inputWidgets": {},
     "nuid": "eef05aff-5922-4176-8fe8-981cef036510",
     "showTitle": false,
     "title": ""
    }
   },
   "outputs": [
    {
     "output_type": "stream",
     "name": "stdout",
     "output_type": "stream",
     "text": [
      "root\n |-- vendorID: integer (nullable = true)\n |-- tpepPickupDateTime: timestamp (nullable = true)\n |-- tpepDropoffDateTime: timestamp (nullable = true)\n |-- passengerCount: integer (nullable = true)\n |-- tripDistance: double (nullable = true)\n |-- puLocationId: integer (nullable = true)\n |-- doLocationId: integer (nullable = true)\n |-- rateCodeId: integer (nullable = true)\n |-- storeAndFwdFlag: integer (nullable = false)\n |-- paymentType: integer (nullable = true)\n |-- fareAmount: double (nullable = true)\n |-- extra: double (nullable = true)\n |-- mtaTax: double (nullable = true)\n |-- improvementSurcharge: double (nullable = true)\n |-- tipAmount: double (nullable = true)\n |-- tollsAmount: double (nullable = true)\n |-- totalAmount: double (nullable = true)\n |-- puYear: integer (nullable = true)\n |-- puMonth: integer (nullable = true)\n |-- is_weekend: integer (nullable = false)\n |-- is_holiday: integer (nullable = false)\n |-- week_number: integer (nullable = true)\n\n+--------+-------------------+-------------------+--------------+------------+------------+------------+----------+---------------+-----------+----------+-----+------+--------------------+---------+-----------+-----------+------+-------+----------+----------+-----------+\n|vendorID| tpepPickupDateTime|tpepDropoffDateTime|passengerCount|tripDistance|puLocationId|doLocationId|rateCodeId|storeAndFwdFlag|paymentType|fareAmount|extra|mtaTax|improvementSurcharge|tipAmount|tollsAmount|totalAmount|puYear|puMonth|is_weekend|is_holiday|week_number|\n+--------+-------------------+-------------------+--------------+------------+------------+------------+----------+---------------+-----------+----------+-----+------+--------------------+---------+-----------+-----------+------+-------+----------+----------+-----------+\n|       1|2017-03-02 07:59:01|2017-03-02 08:12:48|             1|         1.4|         238|         236|         1|              0|          1|       9.5|  0.0|   0.5|                 0.3|      0.0|        0.0|       10.3|  2017|      3|         0|         0|          9|\n|       2|2017-02-28 12:03:31|2017-03-01 11:58:41|             6|        0.87|         263|         140|         1|              0|          1|       5.5|  0.0|   0.5|                 0.3|      0.0|        0.0|        6.3|  2017|      3|         0|         0|          9|\n|       1|2017-03-02 00:46:47|2017-03-02 00:52:13|             1|         0.9|          48|         100|         1|              0|          1|       5.5|  0.5|   0.5|                 0.3|     1.35|        0.0|       8.15|  2017|      3|         0|         0|          9|\n|       2|2017-02-28 17:21:44|2017-03-01 16:26:31|             2|        11.4|         138|         170|         1|              0|          2|      34.5|  1.0|   0.5|                 0.3|      0.0|       5.54|      41.84|  2017|      3|         0|         0|          9|\n|       2|2017-03-02 00:07:44|2017-03-02 00:26:32|             1|        9.27|         144|         179|         1|              0|          1|      27.5|  0.5|   0.5|                 0.3|     3.08|        0.0|      31.88|  2017|      3|         0|         0|          9|\n|       2|2017-02-28 18:07:28|2017-03-01 17:54:58|             1|        0.02|         237|         237|         1|              0|          2|       3.0|  1.0|   0.5|                 0.3|      0.0|        0.0|        4.8|  2017|      3|         0|         0|          9|\n|       2|2017-03-02 01:20:36|2017-03-02 01:46:38|             1|        7.38|         249|         129|         1|              0|          1|      24.0|  0.5|   0.5|                 0.3|     5.06|        0.0|      30.36|  2017|      3|         0|         0|          9|\n|       2|2017-02-28 11:07:30|2017-03-01 10:58:22|             1|        1.11|         236|         140|         1|              0|          1|      10.0|  0.0|   0.5|                 0.3|     2.16|        0.0|      12.96|  2017|      3|         0|         0|          9|\n|       2|2017-03-01 23:16:36|2017-03-01 23:27:08|             1|        2.51|         230|         263|         1|              0|          1|      10.0|  0.5|   0.5|                 0.3|     2.26|        0.0|      13.56|  2017|      3|         0|         0|          9|\n|       2|2017-02-28 15:16:50|2017-03-01 15:15:28|             1|        1.46|         246|         161|         1|              0|          1|       8.5|  0.0|   0.5|                 0.3|     1.86|        0.0|      11.16|  2017|      3|         0|         0|          9|\n|       2|2017-03-01 20:39:07|2017-03-01 21:03:00|             1|        4.16|         249|         255|         1|              0|          1|      19.0|  0.5|   0.5|                 0.3|     4.06|        0.0|      24.36|  2017|      3|         0|         0|          9|\n|       2|2017-02-28 15:41:09|2017-03-01 15:38:37|             1|        1.97|         162|         140|         1|              0|          2|      14.5|  0.0|   0.5|                 0.3|      0.0|        0.0|       15.3|  2017|      3|         0|         0|          9|\n|       2|2017-03-01 23:05:51|2017-03-01 23:16:02|             1|        1.69|          79|         211|         1|              0|          1|       9.0|  0.5|   0.5|                 0.3|     2.06|        0.0|      12.36|  2017|      3|         0|         0|          9|\n|       2|2017-02-28 14:27:16|2017-03-01 14:19:04|             1|        1.62|          48|         234|         1|              0|          1|      11.0|  0.0|   0.5|                 0.3|     2.36|        0.0|      14.16|  2017|      3|         0|         0|          9|\n|       2|2017-03-01 23:07:45|2017-03-01 23:14:58|             1|        3.71|          65|         112|         1|              0|          2|      12.0|  0.5|   0.5|                 0.3|      0.0|        0.0|       13.3|  2017|      3|         0|         0|          9|\n|       2|2017-02-28 14:41:11|2017-03-01 14:35:44|             5|        0.72|         164|         186|         1|              0|          1|       7.5|  0.0|   0.5|                 0.3|     1.66|        0.0|       9.96|  2017|      3|         0|         0|          9|\n|       1|2017-03-02 06:20:28|2017-03-02 06:23:29|             1|         0.6|         140|         237|         1|              0|          2|       4.5|  0.0|   0.5|                 0.3|      0.0|        0.0|        5.3|  2017|      3|         0|         0|          9|\n|       1|2017-03-02 17:43:52|2017-03-02 18:06:47|             1|         4.3|         145|         237|         2|              0|          1|      52.0|  4.5|   0.5|                 0.3|    12.55|       5.54|      75.39|  2017|      3|         0|         0|          9|\n|       2|2017-03-02 01:09:55|2017-03-02 01:22:58|             1|        3.72|         141|           7|         1|              0|          1|      13.5|  0.5|   0.5|                 0.3|      3.7|        0.0|       18.5|  2017|      3|         0|         0|          9|\n|       2|2017-03-02 16:45:57|2017-03-02 16:57:12|             5|        1.82|         237|         142|         1|              0|          1|       9.5|  1.0|   0.5|                 0.3|     3.39|        0.0|      14.69|  2017|      3|         0|         0|          9|\n+--------+-------------------+-------------------+--------------+------------+------------+------------+----------+---------------+-----------+----------+-----+------+--------------------+---------+-----------+-----------+------+-------+----------+----------+-----------+\nonly showing top 20 rows\n\n"
     ]
    }
   ],
   "source": [
    "# Third/Last, remove columns from cleaned_df not needed and explain why keep/remove columns. Keep only columns that could be useful in predicting taxi demand in the zones. \n",
    "# To predict the hourly demand for NYC taxi services in each zone, certain columns from the dataset would be more relevant while others may not contribute significantly. Initially we believe\n",
    "\n",
    "# Useful Columns:\n",
    "\n",
    "# 1. tpepPickupDateTime and tpepDropoffDateTime: These columns provide the timestamp information for when the meter was engaged and disengaged. They are crucial for analyzing the temporal aspect of taxi demand.\n",
    "\n",
    "# 2. passengerCount: Number of passengers in the vehicle could impact the demand, especially during peak hours or events.\n",
    "\n",
    "# 3. tripDistance: Elapsed trip distance provides insight into the length of trips, which can correlate with demand.\n",
    "\n",
    "# 4. puLocationId and doLocationId: These columns indicate the Taxi Zone where the pickup and dropoff occurred, which is essential for spatial analysis and understanding demand patterns across different zones.\n",
    "\n",
    "# 5. paymentType: Knowing how passengers paid for the trip can provide insights into customer preferences and behavior.\n",
    "\n",
    "# 6. fareAmount and totalAmount: These columns represent the fare and total amount charged to passengers, respectively, which could be indicative of demand trends.\n",
    "\n",
    "# 7. puYear and puMonth: These columns provide additional temporal information, enabling analysis at yearly and monthly levels.\n",
    "\n",
    "# 8. Derived columns are useful.\n",
    "\n",
    "# Less Useful Columns:\n",
    "\n",
    "# 1. vendorID: The provider of the record might not directly impact taxi demand analysis.\n",
    "\n",
    "# 2. rateCodeId: Final rate code might not directly influence demand prediction.\n",
    "\n",
    "# 3. storeAndFwdFlag: This flag indicating whether the trip record was held in vehicle memory may not be relevant for demand analysis.\n",
    "\n",
    "# 4. extra, improvementSurcharge, mtaTax, tipAmount, tollsAmount: While these columns are relevant for fare calculation and billing, they might not directly affect demand prediction.\n",
    "\n",
    "# 5. startLat, startLon, endLat, endLon: These columns provide latitude and longitude information, which might be useful for spatial analysis but less so for hourly demand prediction. (already dropped these columns)\n",
    "\n",
    "# We will do correlation analysis and feature importance for columns to see what columns can be useful for modelling/forecasting.\n",
    "\n",
    "cleaned_df.printSchema()\n",
    "cleaned_df.show()"
   ]
  },
  {
   "cell_type": "code",
   "execution_count": 0,
   "metadata": {
    "application/vnd.databricks.v1+cell": {
     "cellMetadata": {
      "byteLimit": 2048000,
      "rowLimit": 10000
     },
     "inputWidgets": {},
     "nuid": "ef152f15-a4fb-4762-9a5b-1a1e34fa88f9",
     "showTitle": false,
     "title": ""
    }
   },
   "outputs": [
    {
     "output_type": "stream",
     "name": "stdout",
     "output_type": "stream",
     "text": [
      "Correlation Matrix:\nvendorID vs vendorID: 1.0\nvendorID vs passengerCount: 0.23859317024104335\nvendorID vs tripDistance: 0.0071163645725295386\nvendorID vs rateCodeId: 0.010098291710613343\nvendorID vs storeAndFwdFlag: -0.07304537719629776\nvendorID vs paymentType: -0.016763189659596913\nvendorID vs fareAmount: 0.0012973062098037547\nvendorID vs extra: 0.002872012897936415\nvendorID vs mtaTax: -0.0024100434010393126\nvendorID vs improvementSurcharge: -0.0005992939003506492\nvendorID vs tipAmount: 0.01191047607245094\nvendorID vs tollsAmount: 0.010940768844313532\nvendorID vs totalAmount: 0.0017121333439620407\nvendorID vs puYear: 0.04597077792617179\nvendorID vs puMonth: 0.03035670092469391\nvendorID vs is_weekend: -0.0009761750321477059\nvendorID vs is_holiday: 0.005822139842876883\nvendorID vs week_number: 0.030076731686786883\npassengerCount vs vendorID: 0.23859317024104335\npassengerCount vs passengerCount: 1.0\npassengerCount vs tripDistance: 0.0037948268282406972\npassengerCount vs rateCodeId: 0.0015816772963081788\npassengerCount vs storeAndFwdFlag: -0.01844685244092827\npassengerCount vs paymentType: 0.014260936614516813\npassengerCount vs fareAmount: 0.0009679604394051044\npassengerCount vs extra: 0.004381510618543933\npassengerCount vs mtaTax: -0.0015531672147853753\npassengerCount vs improvementSurcharge: 3.2165526378494985e-05\npassengerCount vs tipAmount: -0.004133912821606424\npassengerCount vs tollsAmount: 0.007927144166139545\npassengerCount vs totalAmount: 0.0010182957803672957\npassengerCount vs puYear: -0.007265733859762591\npassengerCount vs puMonth: -6.580638840373964e-05\npassengerCount vs is_weekend: 0.013751610455397687\npassengerCount vs is_holiday: 0.006273347406046433\npassengerCount vs week_number: -0.00013601907857573557\ntripDistance vs vendorID: 0.0071163645725295386\ntripDistance vs passengerCount: 0.0037948268282406972\ntripDistance vs tripDistance: 1.0\ntripDistance vs rateCodeId: 0.12295084099791326\ntripDistance vs storeAndFwdFlag: 0.003767832883498673\ntripDistance vs paymentType: -0.012630787827421571\ntripDistance vs fareAmount: 0.025750639781620253\ntripDistance vs extra: 0.027057616660282675\ntripDistance vs mtaTax: -0.03632112071097201\ntripDistance vs improvementSurcharge: 3.0935735242022045e-05\ntripDistance vs tipAmount: 0.1577662416602273\ntripDistance vs tollsAmount: 0.14325776043515653\ntripDistance vs totalAmount: 0.03085482548468821\ntripDistance vs puYear: 0.00033837929175472566\ntripDistance vs puMonth: 0.00259853029036278\ntripDistance vs is_weekend: -0.003852578934503644\ntripDistance vs is_holiday: 0.0031621939102490964\ntripDistance vs week_number: 0.0028016083298427366\nrateCodeId vs vendorID: 0.010098291710613343\nrateCodeId vs passengerCount: 0.0015816772963081788\nrateCodeId vs tripDistance: 0.12295084099791326\nrateCodeId vs rateCodeId: 1.0\nrateCodeId vs storeAndFwdFlag: 0.006807036702982328\nrateCodeId vs paymentType: -0.0054797115618381255\nrateCodeId vs fareAmount: 0.044374179601749296\nrateCodeId vs extra: 0.06091354952613639\nrateCodeId vs mtaTax: -0.3396645992364819\nrateCodeId vs improvementSurcharge: -0.00030329756867394534\nrateCodeId vs tipAmount: 0.280839929280896\nrateCodeId vs tollsAmount: 0.34522725062716947\nrateCodeId vs totalAmount: 0.05468918163199207\nrateCodeId vs puYear: 0.0059004385339682785\nrateCodeId vs puMonth: 0.009933402294424368\nrateCodeId vs is_weekend: -0.005098038521059667\nrateCodeId vs is_holiday: 0.004366911238195378\nrateCodeId vs week_number: 0.010027897292848557\nstoreAndFwdFlag vs vendorID: -0.07304537719629776\nstoreAndFwdFlag vs passengerCount: -0.01844685244092827\nstoreAndFwdFlag vs tripDistance: 0.003767832883498673\nstoreAndFwdFlag vs rateCodeId: 0.006807036702982328\nstoreAndFwdFlag vs storeAndFwdFlag: 1.0\nstoreAndFwdFlag vs paymentType: 0.007826316160673391\nstoreAndFwdFlag vs fareAmount: 0.001257226781809474\nstoreAndFwdFlag vs extra: 0.000880124577591059\nstoreAndFwdFlag vs mtaTax: -0.0006654560921704415\nstoreAndFwdFlag vs improvementSurcharge: 4.6289318826686904e-05\nstoreAndFwdFlag vs tipAmount: 0.005246920125462785\nstoreAndFwdFlag vs tollsAmount: 0.013898105723834342\nstoreAndFwdFlag vs totalAmount: 0.0015525880554719158\nstoreAndFwdFlag vs puYear: 0.0011187508992527295\nstoreAndFwdFlag vs puMonth: -0.004460733179723248\nstoreAndFwdFlag vs is_weekend: -0.0024420001907492408\nstoreAndFwdFlag vs is_holiday: -0.002124058639773309\nstoreAndFwdFlag vs week_number: -0.004461539066166535\npaymentType vs vendorID: -0.016763189659596913\npaymentType vs passengerCount: 0.014260936614516813\npaymentType vs tripDistance: -0.012630787827421571\npaymentType vs rateCodeId: -0.0054797115618381255\npaymentType vs storeAndFwdFlag: 0.007826316160673391\npaymentType vs paymentType: 1.0\npaymentType vs fareAmount: -0.003513467051148986\npaymentType vs extra: -0.022965534090567504\npaymentType vs mtaTax: -0.03530484448838461\npaymentType vs improvementSurcharge: -0.003067006791968859\npaymentType vs tipAmount: -0.4850766372654698\npaymentType vs tollsAmount: -0.03186779581907292\npaymentType vs totalAmount: -0.013471676187085332\npaymentType vs puYear: -0.023509672161597807\npaymentType vs puMonth: 0.0031187471497724217\npaymentType vs is_weekend: 0.01911327668107819\npaymentType vs is_holiday: 0.01565808354048258\npaymentType vs week_number: 0.003494348096769841\nfareAmount vs vendorID: 0.0012973062098037547\nfareAmount vs passengerCount: 0.0009679604394051044\nfareAmount vs tripDistance: 0.025750639781620253\nfareAmount vs rateCodeId: 0.044374179601749296\nfareAmount vs storeAndFwdFlag: 0.001257226781809474\nfareAmount vs paymentType: -0.003513467051148986\nfareAmount vs fareAmount: 1.0\nfareAmount vs extra: 0.007534310846480471\nfareAmount vs mtaTax: -0.008811928024235013\nfareAmount vs improvementSurcharge: 8.494263354208452e-05\nfareAmount vs tipAmount: 0.05003722995274826\nfareAmount vs tollsAmount: 0.04357661478041351\nfareAmount vs totalAmount: 0.9995981126666693\nfareAmount vs puYear: -2.307956367225269e-05\nfareAmount vs puMonth: 0.0020156852317980752\nfareAmount vs is_weekend: -0.001129643517557139\nfareAmount vs is_holiday: -0.00012419560222983733\nfareAmount vs week_number: 0.002082297866739686\nextra vs vendorID: 0.002872012897936415\nextra vs passengerCount: 0.004381510618543933\nextra vs tripDistance: 0.027057616660282675\nextra vs rateCodeId: 0.06091354952613639\nextra vs storeAndFwdFlag: 0.000880124577591059\nextra vs paymentType: -0.022965534090567504\nextra vs fareAmount: 0.007534310846480471\nextra vs extra: 1.0\nextra vs mtaTax: 0.007060852613360035\nextra vs improvementSurcharge: 0.0010838589234323263\nextra vs tipAmount: 0.0750076766591292\nextra vs tollsAmount: 0.04290838301864658\nextra vs totalAmount: 0.01307184664005331\nextra vs puYear: -0.00044149601851715254\nextra vs puMonth: -0.004051556825247071\nextra vs is_weekend: -0.051127196197388064\nextra vs is_holiday: -0.04025978375937942\nextra vs week_number: -0.0024373027523485235\nmtaTax vs vendorID: -0.0024100434010393126\nmtaTax vs passengerCount: -0.0015531672147853753\nmtaTax vs tripDistance: -0.03632112071097201\nmtaTax vs rateCodeId: -0.3396645992364819\nmtaTax vs storeAndFwdFlag: -0.0006654560921704415\nmtaTax vs paymentType: -0.03530484448838461\nmtaTax vs fareAmount: -0.008811928024235013\nmtaTax vs extra: 0.007060852613360035\nmtaTax vs mtaTax: 1.0\nmtaTax vs improvementSurcharge: 0.01939741805917139\nmtaTax vs tipAmount: -0.11144115687488919\nmtaTax vs tollsAmount: -0.2308863275703994\nmtaTax vs totalAmount: -0.013837867318922998\nmtaTax vs puYear: -0.0013213842323100834\nmtaTax vs puMonth: -0.0030018503132615256\nmtaTax vs is_weekend: 0.00025240213857853904\nmtaTax vs is_holiday: -0.0012121243307772317\nmtaTax vs week_number: -0.0030398103822078964\nimprovementSurcharge vs vendorID: -0.0005992939003506492\nimprovementSurcharge vs passengerCount: 3.2165526378494985e-05\nimprovementSurcharge vs tripDistance: 3.0935735242022045e-05\nimprovementSurcharge vs rateCodeId: -0.00030329756867394534\nimprovementSurcharge vs storeAndFwdFlag: 4.6289318826686904e-05\nimprovementSurcharge vs paymentType: -0.003067006791968859\nimprovementSurcharge vs fareAmount: 8.494263354208452e-05\nimprovementSurcharge vs extra: 0.0010838589234323263\nimprovementSurcharge vs mtaTax: 0.01939741805917139\nimprovementSurcharge vs improvementSurcharge: 1.0\nimprovementSurcharge vs tipAmount: 0.0005324422330639931\nimprovementSurcharge vs tollsAmount: 0.00013587606739047593\nimprovementSurcharge vs totalAmount: 0.0022055881202056983\nimprovementSurcharge vs puYear: -5.108865681872043e-05\nimprovementSurcharge vs puMonth: -0.00017386476157178022\nimprovementSurcharge vs is_weekend: 5.861469779420573e-05\nimprovementSurcharge vs is_holiday: -1.7013002678025842e-05\nimprovementSurcharge vs week_number: -0.0001667856380765004\ntipAmount vs vendorID: 0.01191047607245094\ntipAmount vs passengerCount: -0.004133912821606424\ntipAmount vs tripDistance: 0.1577662416602273\ntipAmount vs rateCodeId: 0.280839929280896\ntipAmount vs storeAndFwdFlag: 0.005246920125462785\ntipAmount vs paymentType: -0.4850766372654698\ntipAmount vs fareAmount: 0.05003722995274826\ntipAmount vs extra: 0.0750076766591292\ntipAmount vs mtaTax: -0.11144115687488919\ntipAmount vs improvementSurcharge: 0.0005324422330639931\ntipAmount vs tipAmount: 1.0\ntipAmount vs tollsAmount: 0.375188282894116\ntipAmount vs totalAmount: 0.07483055489759374\ntipAmount vs puYear: 0.00703634191669256\ntipAmount vs puMonth: 0.008072410762516283\ntipAmount vs is_weekend: -0.02457977979956047\ntipAmount vs is_holiday: -0.007991605909856273\ntipAmount vs week_number: 0.008476288341157018\ntollsAmount vs vendorID: 0.010940768844313532\ntollsAmount vs passengerCount: 0.007927144166139545\ntollsAmount vs tripDistance: 0.14325776043515653\ntollsAmount vs rateCodeId: 0.34522725062716947\ntollsAmount vs storeAndFwdFlag: 0.013898105723834342\ntollsAmount vs paymentType: -0.03186779581907292\ntollsAmount vs fareAmount: 0.04357661478041351\ntollsAmount vs extra: 0.04290838301864658\ntollsAmount vs mtaTax: -0.2308863275703994\ntollsAmount vs improvementSurcharge: 0.00013587606739047593\ntollsAmount vs tipAmount: 0.375188282894116\ntollsAmount vs tollsAmount: 1.0\ntollsAmount vs totalAmount: 0.06488730073158216\ntollsAmount vs puYear: 0.005832788038735438\ntollsAmount vs puMonth: 0.009217662440564715\ntollsAmount vs is_weekend: -0.016439516671666154\ntollsAmount vs is_holiday: 0.0030963828412079023\ntollsAmount vs week_number: 0.009618906703122475\ntotalAmount vs vendorID: 0.0017121333439620407\ntotalAmount vs passengerCount: 0.0010182957803672957\ntotalAmount vs tripDistance: 0.03085482548468821\ntotalAmount vs rateCodeId: 0.05468918163199207\ntotalAmount vs storeAndFwdFlag: 0.0015525880554719158\ntotalAmount vs paymentType: -0.013471676187085332\ntotalAmount vs fareAmount: 0.9995981126666693\ntotalAmount vs extra: 0.01307184664005331\ntotalAmount vs mtaTax: -0.013837867318922998\ntotalAmount vs improvementSurcharge: 0.0022055881202056983\ntotalAmount vs tipAmount: 0.07483055489759374\ntotalAmount vs tollsAmount: 0.06488730073158216\ntotalAmount vs totalAmount: 1.0\ntotalAmount vs puYear: 0.00019203614133392146\ntotalAmount vs puMonth: 0.002282091206290186\ntotalAmount vs is_weekend: -0.0020136903370891134\ntotalAmount vs is_holiday: -0.00037645595370313685\ntotalAmount vs week_number: 0.002367597224835124\npuYear vs vendorID: 0.04597077792617179\npuYear vs passengerCount: -0.007265733859762591\npuYear vs tripDistance: 0.00033837929175472566\npuYear vs rateCodeId: 0.0059004385339682785\npuYear vs storeAndFwdFlag: 0.0011187508992527295\npuYear vs paymentType: -0.023509672161597807\npuYear vs fareAmount: -2.307956367225269e-05\npuYear vs extra: -0.00044149601851715254\npuYear vs mtaTax: -0.0013213842323100834\npuYear vs improvementSurcharge: -5.108865681872043e-05\npuYear vs tipAmount: 0.00703634191669256\npuYear vs tollsAmount: 0.005832788038735438\npuYear vs totalAmount: 0.00019203614133392146\npuYear vs puYear: 1.0\npuYear vs puMonth: -0.007592985825941796\npuYear vs is_weekend: -0.004162503036171863\npuYear vs is_holiday: 0.007406829754304577\npuYear vs week_number: -0.01040262679273445\npuMonth vs vendorID: 0.03035670092469391\npuMonth vs passengerCount: -6.580638840373964e-05\npuMonth vs tripDistance: 0.00259853029036278\npuMonth vs rateCodeId: 0.009933402294424368\npuMonth vs storeAndFwdFlag: -0.004460733179723248\npuMonth vs paymentType: 0.0031187471497724217\npuMonth vs fareAmount: 0.0020156852317980752\npuMonth vs extra: -0.004051556825247071\npuMonth vs mtaTax: -0.0030018503132615256\npuMonth vs improvementSurcharge: -0.00017386476157178022\npuMonth vs tipAmount: 0.008072410762516283\npuMonth vs tollsAmount: 0.009217662440564715\npuMonth vs totalAmount: 0.002282091206290186\npuMonth vs puYear: -0.007592985825941796\npuMonth vs puMonth: 1.0\npuMonth vs is_weekend: 0.001168582719795015\npuMonth vs is_holiday: -0.049249934795545805\npuMonth vs week_number: 0.984177883538904\nis_weekend vs vendorID: -0.0009761750321477059\nis_weekend vs passengerCount: 0.013751610455397687\nis_weekend vs tripDistance: -0.003852578934503644\nis_weekend vs rateCodeId: -0.005098038521059667\nis_weekend vs storeAndFwdFlag: -0.0024420001907492408\nis_weekend vs paymentType: 0.01911327668107819\nis_weekend vs fareAmount: -0.001129643517557139\nis_weekend vs extra: -0.051127196197388064\nis_weekend vs mtaTax: 0.00025240213857853904\nis_weekend vs improvementSurcharge: 5.861469779420573e-05\nis_weekend vs tipAmount: -0.02457977979956047\nis_weekend vs tollsAmount: -0.016439516671666154\nis_weekend vs totalAmount: -0.0020136903370891134\nis_weekend vs puYear: -0.004162503036171863\nis_weekend vs puMonth: 0.001168582719795015\nis_weekend vs is_weekend: 1.0\nis_weekend vs is_holiday: -0.07922131828033317\nis_weekend vs week_number: -0.009640115679369411\nis_holiday vs vendorID: 0.005822139842876883\nis_holiday vs passengerCount: 0.006273347406046433\nis_holiday vs tripDistance: 0.0031621939102490964\nis_holiday vs rateCodeId: 0.004366911238195378\nis_holiday vs storeAndFwdFlag: -0.002124058639773309\nis_holiday vs paymentType: 0.01565808354048258\nis_holiday vs fareAmount: -0.00012419560222983733\nis_holiday vs extra: -0.04025978375937942\nis_holiday vs mtaTax: -0.0012121243307772317\nis_holiday vs improvementSurcharge: -1.7013002678025842e-05\nis_holiday vs tipAmount: -0.007991605909856273\nis_holiday vs tollsAmount: 0.0030963828412079023\nis_holiday vs totalAmount: -0.00037645595370313685\nis_holiday vs puYear: 0.007406829754304577\nis_holiday vs puMonth: -0.049249934795545805\nis_holiday vs is_weekend: -0.07922131828033317\nis_holiday vs is_holiday: 1.0\nis_holiday vs week_number: -0.009499113930430928\nweek_number vs vendorID: 0.030076731686786883\nweek_number vs passengerCount: -0.00013601907857573557\nweek_number vs tripDistance: 0.0028016083298427366\nweek_number vs rateCodeId: 0.010027897292848557\nweek_number vs storeAndFwdFlag: -0.004461539066166535\nweek_number vs paymentType: 0.003494348096769841\nweek_number vs fareAmount: 0.002082297866739686\nweek_number vs extra: -0.0024373027523485235\nweek_number vs mtaTax: -0.0030398103822078964\nweek_number vs improvementSurcharge: -0.0001667856380765004\nweek_number vs tipAmount: 0.008476288341157018\nweek_number vs tollsAmount: 0.009618906703122475\nweek_number vs totalAmount: 0.002367597224835124\nweek_number vs puYear: -0.01040262679273445\nweek_number vs puMonth: 0.984177883538904\nweek_number vs is_weekend: -0.009640115679369411\nweek_number vs is_holiday: -0.009499113930430928\nweek_number vs week_number: 1.0\n"
     ]
    }
   ],
   "source": [
    "# DON'T RUN\n",
    "# put features into a single vector. Use all columns for now to gain a better understanding\n",
    "feature_cols = ['vendorID','passengerCount', 'tripDistance', 'rateCodeId','storeAndFwdFlag', 'paymentType','fareAmount', 'extra', 'mtaTax', 'improvementSurcharge', 'tipAmount', 'tollsAmount', 'totalAmount','puYear','puMonth', 'is_weekend','is_holiday', 'week_number']\n",
    "# didn't use pick or drop off timestamp datatypes and taxi zone where person picked up and dropped off (puLocationId and doLocationId)\n",
    "\n",
    "assembler = VectorAssembler(inputCols=feature_cols, outputCol=\"features\")\n",
    "\n",
    "# apply VectorAssembler to the df\n",
    "data = assembler.transform(cleaned_df).select(\"features\")\n",
    "\n",
    "# calculate correlation matrix\n",
    "correlation_matrix = Correlation.corr(data, \"features\").head()\n",
    "corr_matrix = correlation_matrix[0].toArray()\n",
    "\n",
    "# define feature labels\n",
    "feature_labels = feature_cols\n",
    "\n",
    "print(\"Correlation Matrix:\")\n",
    "for i, row_label in enumerate(feature_labels):\n",
    "    for j, col_label in enumerate(feature_labels):\n",
    "        print(f\"{row_label} vs {col_label}: {corr_matrix[i][j]}\")\n",
    "\n",
    "\n",
    "# Notes from correlation matrix results:\n",
    "# we want to look for correlation coefficients that are close to 1 or -1, as these indicate a strong linear relationship between the two variables. Many correlations are close to zero, indicating weak or no linear relationship between the variables. Overall, from the correlation matrix we see there is no very strong indicators. "
   ]
  },
  {
   "cell_type": "code",
   "execution_count": 0,
   "metadata": {
    "application/vnd.databricks.v1+cell": {
     "cellMetadata": {
      "byteLimit": 2048000,
      "rowLimit": 10000
     },
     "inputWidgets": {},
     "nuid": "ed7e1ca9-d6a8-405c-8a6f-6bf85437786a",
     "showTitle": false,
     "title": ""
    }
   },
   "outputs": [
    {
     "output_type": "stream",
     "name": "stdout",
     "output_type": "stream",
     "text": [
      "root\n |-- tpepPickupDateTime: timestamp (nullable = true)\n |-- tpepDropoffDateTime: timestamp (nullable = true)\n |-- passengerCount: integer (nullable = true)\n |-- tripDistance: double (nullable = true)\n |-- puLocationId: integer (nullable = true)\n |-- doLocationId: integer (nullable = true)\n |-- paymentType: integer (nullable = true)\n |-- fareAmount: double (nullable = true)\n |-- totalAmount: double (nullable = true)\n |-- puYear: integer (nullable = true)\n |-- puMonth: integer (nullable = true)\n |-- is_weekend: integer (nullable = false)\n |-- is_holiday: integer (nullable = false)\n |-- week_number: integer (nullable = true)\n\n"
     ]
    }
   ],
   "source": [
    "# RUN\n",
    "# create final dataset with desired columns useful for forecasting\n",
    "# since our correlation analysis was not as insightful as expected we will stick with out initial thoughts on what columns are useful and not useful. We wil drop the not useful columns discussed above and keep our derived features.\n",
    "\n",
    "# list of columns to drop\n",
    "columns_to_drop = [\"vendorID\", \"rateCodeId\", \"storeAndFwdFlag\", \"extra\", \"improvementSurcharge\", \"mtaTax\", \"tipAmount\", \"tollsAmount\"]\n",
    "\n",
    "# drop the columns\n",
    "cleaned_df = cleaned_df.drop(*columns_to_drop)\n",
    "\n",
    "# sanity check they are gone\n",
    "cleaned_df.printSchema() # this df will be used for initial pipeline\n"
   ]
  },
  {
   "cell_type": "markdown",
   "metadata": {
    "application/vnd.databricks.v1+cell": {
     "cellMetadata": {},
     "inputWidgets": {},
     "nuid": "4ec9e672-dd1b-4146-9af3-b08b19d6900d",
     "showTitle": false,
     "title": ""
    }
   },
   "source": [
    "##### d. Do you need any dimensionality reduction? (e.g., LASSO regularization, forward/backward selection, PCA, etc..)\n",
    "\n",
    "Dimensionality reduction techniques like LASSO regularization, forward/backward selection, and PCA (Principal Component Analysis) are used in machine learning and data analysis to address various challenges associated with high-dimensional data. Since our data is not high-dimensional we do not need to apply dimension reduction techniques."
   ]
  },
  {
   "cell_type": "markdown",
   "metadata": {
    "application/vnd.databricks.v1+cell": {
     "cellMetadata": {},
     "inputWidgets": {},
     "nuid": "970f8939-dc30-46f3-adc8-62f15e8e4128",
     "showTitle": false,
     "title": ""
    }
   },
   "source": [
    "### 2. Specify the feature transformations for the pipeline and justify these features given the target"
   ]
  },
  {
   "cell_type": "code",
   "execution_count": 0,
   "metadata": {
    "application/vnd.databricks.v1+cell": {
     "cellMetadata": {},
     "inputWidgets": {},
     "nuid": "5026b1ff-3e11-4d6b-b214-a583176fd470",
     "showTitle": false,
     "title": ""
    }
   },
   "outputs": [],
   "source": []
  },
  {
   "cell_type": "markdown",
   "metadata": {
    "application/vnd.databricks.v1+cell": {
     "cellMetadata": {},
     "inputWidgets": {},
     "nuid": "ea173beb-18a4-4a63-8884-ca9dda90cc3f",
     "showTitle": false,
     "title": ""
    }
   },
   "source": [
    "### 3. Create baseline pipelines and do experiments on your data\n",
    "#### a. Set a blind test set that is never seen during training.\n",
    "#### b. Report evaluation metrics over the training set\n",
    "#### c. Report evaluation metrics over blind test dataset\n",
    "#### d. Create a baseline model using logistic/linear regression, ensemble models\n",
    "#### e. Discussion of experimental results on training and testing dataset"
   ]
  },
  {
   "cell_type": "markdown",
   "metadata": {
    "application/vnd.databricks.v1+cell": {
     "cellMetadata": {},
     "inputWidgets": {},
     "nuid": "bf5a1dd3-1429-468f-9661-9322ee05a555",
     "showTitle": false,
     "title": ""
    }
   },
   "source": [
    "##### a. Set a blind test set that is never seen during training."
   ]
  },
  {
   "cell_type": "code",
   "execution_count": 0,
   "metadata": {
    "application/vnd.databricks.v1+cell": {
     "cellMetadata": {},
     "inputWidgets": {},
     "nuid": "f4aa15cd-4594-4049-9a77-d3e9fda2d0a0",
     "showTitle": false,
     "title": ""
    }
   },
   "outputs": [],
   "source": []
  },
  {
   "cell_type": "markdown",
   "metadata": {
    "application/vnd.databricks.v1+cell": {
     "cellMetadata": {},
     "inputWidgets": {},
     "nuid": "ea48dc42-1ab9-4473-ba78-c8a62e594377",
     "showTitle": false,
     "title": ""
    }
   },
   "source": [
    "##### b. Report evaluation metrics over the training set"
   ]
  },
  {
   "cell_type": "code",
   "execution_count": 0,
   "metadata": {
    "application/vnd.databricks.v1+cell": {
     "cellMetadata": {},
     "inputWidgets": {},
     "nuid": "c1a8886e-d575-4f69-b6ac-845620d830f5",
     "showTitle": false,
     "title": ""
    }
   },
   "outputs": [],
   "source": []
  },
  {
   "cell_type": "markdown",
   "metadata": {
    "application/vnd.databricks.v1+cell": {
     "cellMetadata": {},
     "inputWidgets": {},
     "nuid": "db334b39-b19d-403e-af12-465079ed9b06",
     "showTitle": false,
     "title": ""
    }
   },
   "source": [
    "##### c. Report evaluation metrics over blind test dataset"
   ]
  },
  {
   "cell_type": "code",
   "execution_count": 0,
   "metadata": {
    "application/vnd.databricks.v1+cell": {
     "cellMetadata": {},
     "inputWidgets": {},
     "nuid": "dd1d9d6b-aa83-4639-9963-8be51061edac",
     "showTitle": false,
     "title": ""
    }
   },
   "outputs": [],
   "source": []
  },
  {
   "cell_type": "markdown",
   "metadata": {
    "application/vnd.databricks.v1+cell": {
     "cellMetadata": {},
     "inputWidgets": {},
     "nuid": "d84128c5-6056-4fef-b768-774a38cc957c",
     "showTitle": false,
     "title": ""
    }
   },
   "source": [
    "##### d. Create a baseline model using logistic/linear regression, ensemble models"
   ]
  },
  {
   "cell_type": "code",
   "execution_count": 0,
   "metadata": {
    "application/vnd.databricks.v1+cell": {
     "cellMetadata": {},
     "inputWidgets": {},
     "nuid": "996b84aa-2c1b-407e-996c-b9a9370cd172",
     "showTitle": false,
     "title": ""
    }
   },
   "outputs": [],
   "source": []
  },
  {
   "cell_type": "markdown",
   "metadata": {
    "application/vnd.databricks.v1+cell": {
     "cellMetadata": {},
     "inputWidgets": {},
     "nuid": "5acc209c-f52d-4b2b-aca6-64c15549079f",
     "showTitle": false,
     "title": ""
    }
   },
   "source": [
    "##### e. Discussion of experimental results on training and testing dataset"
   ]
  },
  {
   "cell_type": "code",
   "execution_count": 0,
   "metadata": {
    "application/vnd.databricks.v1+cell": {
     "cellMetadata": {},
     "inputWidgets": {},
     "nuid": "7a924e33-05ce-49ce-869e-b5067cd7e0a9",
     "showTitle": false,
     "title": ""
    }
   },
   "outputs": [],
   "source": []
  }
 ],
 "metadata": {
  "application/vnd.databricks.v1+notebook": {
   "dashboards": [],
   "language": "python",
   "notebookMetadata": {
    "pythonIndentUnit": 4
   },
   "notebookName": "Milestone2_v3",
   "widgets": {}
  }
 },
 "nbformat": 4,
 "nbformat_minor": 0
}
